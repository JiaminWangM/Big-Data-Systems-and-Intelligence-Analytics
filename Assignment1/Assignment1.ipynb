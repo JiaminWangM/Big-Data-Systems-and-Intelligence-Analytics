{
 "cells": [
  {
   "cell_type": "code",
   "execution_count": 160,
   "metadata": {
    "collapsed": true
   },
   "outputs": [],
   "source": [
    "import pandas as pd\n",
    "import numpy as np\n",
    "import seaborn as sn\n",
    "import matplotlib.pyplot as plt"
   ]
  },
  {
   "cell_type": "code",
   "execution_count": 161,
   "metadata": {
    "collapsed": true
   },
   "outputs": [],
   "source": [
    "%matplotlib inline"
   ]
  },
  {
   "cell_type": "markdown",
   "metadata": {},
   "source": [
    "The dataset I choose contains many information about college students' food choices, preference and some other personal information. I did a comprehensive analysis of the data in this dataset, such as cleaning data, classifying each feature and analyzing data distribution. Statistical analysis is the most import part of my research. I used heat map and t-test to find out the correlation between different features. I also analyzed the text content of the open-ended questions by using natural language processing technology and used SVM to classify the GPA. The problems I solved are based on certain practical problems. These analyses will play an important role in guiding students to establish good eating habits."
   ]
  },
  {
   "cell_type": "code",
   "execution_count": 162,
   "metadata": {
    "collapsed": true
   },
   "outputs": [],
   "source": [
    "data=pd.read_csv(\"/Users/ouyoshimisatoshi/Desktop/(7245)Bigdata Systems and Intelligence Analytics/Assignment1/Database/food_coded.csv\")"
   ]
  },
  {
   "cell_type": "code",
   "execution_count": 328,
   "metadata": {
    "scrolled": false
   },
   "outputs": [
    {
     "data": {
      "text/html": [
       "<div>\n",
       "<style>\n",
       "    .dataframe thead tr:only-child th {\n",
       "        text-align: right;\n",
       "    }\n",
       "\n",
       "    .dataframe thead th {\n",
       "        text-align: left;\n",
       "    }\n",
       "\n",
       "    .dataframe tbody tr th {\n",
       "        vertical-align: top;\n",
       "    }\n",
       "</style>\n",
       "<table border=\"1\" class=\"dataframe\">\n",
       "  <thead>\n",
       "    <tr style=\"text-align: right;\">\n",
       "      <th></th>\n",
       "      <th>GPA</th>\n",
       "      <th>Gender</th>\n",
       "      <th>breakfast</th>\n",
       "      <th>calories_chicken</th>\n",
       "      <th>calories_day</th>\n",
       "      <th>calories_scone</th>\n",
       "      <th>coffee</th>\n",
       "      <th>comfort_food</th>\n",
       "      <th>comfort_food_reasons</th>\n",
       "      <th>comfort_food_reasons_coded</th>\n",
       "      <th>...</th>\n",
       "      <th>soup</th>\n",
       "      <th>sports</th>\n",
       "      <th>thai_food</th>\n",
       "      <th>tortilla_calories</th>\n",
       "      <th>turkey_calories</th>\n",
       "      <th>type_sports</th>\n",
       "      <th>veggies_day</th>\n",
       "      <th>vitamins</th>\n",
       "      <th>waffle_calories</th>\n",
       "      <th>weight</th>\n",
       "    </tr>\n",
       "  </thead>\n",
       "  <tbody>\n",
       "    <tr>\n",
       "      <th>0</th>\n",
       "      <td>2.4</td>\n",
       "      <td>2</td>\n",
       "      <td>1</td>\n",
       "      <td>430</td>\n",
       "      <td>NaN</td>\n",
       "      <td>315.0</td>\n",
       "      <td>1</td>\n",
       "      <td>none</td>\n",
       "      <td>we dont have comfort</td>\n",
       "      <td>9.0</td>\n",
       "      <td>...</td>\n",
       "      <td>1.0</td>\n",
       "      <td>1.0</td>\n",
       "      <td>1</td>\n",
       "      <td>1165.0</td>\n",
       "      <td>345</td>\n",
       "      <td>car racing</td>\n",
       "      <td>5</td>\n",
       "      <td>1</td>\n",
       "      <td>1315</td>\n",
       "      <td>187</td>\n",
       "    </tr>\n",
       "    <tr>\n",
       "      <th>1</th>\n",
       "      <td>3.654</td>\n",
       "      <td>1</td>\n",
       "      <td>1</td>\n",
       "      <td>610</td>\n",
       "      <td>3.0</td>\n",
       "      <td>420.0</td>\n",
       "      <td>2</td>\n",
       "      <td>chocolate, chips, ice cream</td>\n",
       "      <td>Stress, bored, anger</td>\n",
       "      <td>1.0</td>\n",
       "      <td>...</td>\n",
       "      <td>1.0</td>\n",
       "      <td>1.0</td>\n",
       "      <td>2</td>\n",
       "      <td>725.0</td>\n",
       "      <td>690</td>\n",
       "      <td>Basketball</td>\n",
       "      <td>4</td>\n",
       "      <td>2</td>\n",
       "      <td>900</td>\n",
       "      <td>155</td>\n",
       "    </tr>\n",
       "    <tr>\n",
       "      <th>2</th>\n",
       "      <td>3.3</td>\n",
       "      <td>1</td>\n",
       "      <td>1</td>\n",
       "      <td>720</td>\n",
       "      <td>4.0</td>\n",
       "      <td>420.0</td>\n",
       "      <td>2</td>\n",
       "      <td>frozen yogurt, pizza, fast food</td>\n",
       "      <td>stress, sadness</td>\n",
       "      <td>1.0</td>\n",
       "      <td>...</td>\n",
       "      <td>1.0</td>\n",
       "      <td>2.0</td>\n",
       "      <td>5</td>\n",
       "      <td>1165.0</td>\n",
       "      <td>500</td>\n",
       "      <td>none</td>\n",
       "      <td>5</td>\n",
       "      <td>1</td>\n",
       "      <td>900</td>\n",
       "      <td>I'm not answering this.</td>\n",
       "    </tr>\n",
       "    <tr>\n",
       "      <th>3</th>\n",
       "      <td>3.2</td>\n",
       "      <td>1</td>\n",
       "      <td>1</td>\n",
       "      <td>430</td>\n",
       "      <td>3.0</td>\n",
       "      <td>420.0</td>\n",
       "      <td>2</td>\n",
       "      <td>Pizza, Mac and cheese, ice cream</td>\n",
       "      <td>Boredom</td>\n",
       "      <td>2.0</td>\n",
       "      <td>...</td>\n",
       "      <td>1.0</td>\n",
       "      <td>2.0</td>\n",
       "      <td>5</td>\n",
       "      <td>725.0</td>\n",
       "      <td>690</td>\n",
       "      <td>NaN</td>\n",
       "      <td>3</td>\n",
       "      <td>1</td>\n",
       "      <td>1315</td>\n",
       "      <td>Not sure, 240</td>\n",
       "    </tr>\n",
       "    <tr>\n",
       "      <th>4</th>\n",
       "      <td>3.5</td>\n",
       "      <td>1</td>\n",
       "      <td>1</td>\n",
       "      <td>720</td>\n",
       "      <td>2.0</td>\n",
       "      <td>420.0</td>\n",
       "      <td>2</td>\n",
       "      <td>Ice cream, chocolate, chips</td>\n",
       "      <td>Stress, boredom, cravings</td>\n",
       "      <td>1.0</td>\n",
       "      <td>...</td>\n",
       "      <td>1.0</td>\n",
       "      <td>1.0</td>\n",
       "      <td>4</td>\n",
       "      <td>940.0</td>\n",
       "      <td>500</td>\n",
       "      <td>Softball</td>\n",
       "      <td>4</td>\n",
       "      <td>2</td>\n",
       "      <td>760</td>\n",
       "      <td>190</td>\n",
       "    </tr>\n",
       "  </tbody>\n",
       "</table>\n",
       "<p>5 rows × 60 columns</p>\n",
       "</div>"
      ],
      "text/plain": [
       "     GPA  Gender  breakfast  calories_chicken  calories_day  calories_scone  \\\n",
       "0    2.4       2          1               430           NaN           315.0   \n",
       "1  3.654       1          1               610           3.0           420.0   \n",
       "2    3.3       1          1               720           4.0           420.0   \n",
       "3    3.2       1          1               430           3.0           420.0   \n",
       "4    3.5       1          1               720           2.0           420.0   \n",
       "\n",
       "   coffee                      comfort_food        comfort_food_reasons  \\\n",
       "0       1                              none       we dont have comfort    \n",
       "1       2       chocolate, chips, ice cream        Stress, bored, anger   \n",
       "2       2   frozen yogurt, pizza, fast food             stress, sadness   \n",
       "3       2  Pizza, Mac and cheese, ice cream                     Boredom   \n",
       "4       2      Ice cream, chocolate, chips   Stress, boredom, cravings    \n",
       "\n",
       "   comfort_food_reasons_coded            ...             soup  sports  \\\n",
       "0                         9.0            ...              1.0     1.0   \n",
       "1                         1.0            ...              1.0     1.0   \n",
       "2                         1.0            ...              1.0     2.0   \n",
       "3                         2.0            ...              1.0     2.0   \n",
       "4                         1.0            ...              1.0     1.0   \n",
       "\n",
       "  thai_food  tortilla_calories  turkey_calories  type_sports  veggies_day  \\\n",
       "0         1             1165.0              345   car racing            5   \n",
       "1         2              725.0              690  Basketball             4   \n",
       "2         5             1165.0              500         none            5   \n",
       "3         5              725.0              690          NaN            3   \n",
       "4         4              940.0              500     Softball            4   \n",
       "\n",
       "   vitamins  waffle_calories                    weight  \n",
       "0         1             1315                       187  \n",
       "1         2              900                       155  \n",
       "2         1              900  I'm not answering this.   \n",
       "3         1             1315             Not sure, 240  \n",
       "4         2              760                       190  \n",
       "\n",
       "[5 rows x 60 columns]"
      ]
     },
     "execution_count": 328,
     "metadata": {},
     "output_type": "execute_result"
    }
   ],
   "source": [
    "data.head()"
   ]
  },
  {
   "cell_type": "code",
   "execution_count": 164,
   "metadata": {},
   "outputs": [
    {
     "data": {
      "text/html": [
       "<div>\n",
       "<style>\n",
       "    .dataframe thead tr:only-child th {\n",
       "        text-align: right;\n",
       "    }\n",
       "\n",
       "    .dataframe thead th {\n",
       "        text-align: left;\n",
       "    }\n",
       "\n",
       "    .dataframe tbody tr th {\n",
       "        vertical-align: top;\n",
       "    }\n",
       "</style>\n",
       "<table border=\"1\" class=\"dataframe\">\n",
       "  <thead>\n",
       "    <tr style=\"text-align: right;\">\n",
       "      <th></th>\n",
       "      <th>Gender</th>\n",
       "      <th>breakfast</th>\n",
       "      <th>calories_chicken</th>\n",
       "      <th>calories_day</th>\n",
       "      <th>calories_scone</th>\n",
       "      <th>coffee</th>\n",
       "      <th>comfort_food_reasons_coded</th>\n",
       "      <th>cook</th>\n",
       "      <th>cuisine</th>\n",
       "      <th>diet_current_coded</th>\n",
       "      <th>...</th>\n",
       "      <th>persian_food</th>\n",
       "      <th>self_perception_weight</th>\n",
       "      <th>soup</th>\n",
       "      <th>sports</th>\n",
       "      <th>thai_food</th>\n",
       "      <th>tortilla_calories</th>\n",
       "      <th>turkey_calories</th>\n",
       "      <th>veggies_day</th>\n",
       "      <th>vitamins</th>\n",
       "      <th>waffle_calories</th>\n",
       "    </tr>\n",
       "  </thead>\n",
       "  <tbody>\n",
       "    <tr>\n",
       "      <th>count</th>\n",
       "      <td>125.000000</td>\n",
       "      <td>125.000000</td>\n",
       "      <td>125.000000</td>\n",
       "      <td>106.000000</td>\n",
       "      <td>124.000000</td>\n",
       "      <td>125.00000</td>\n",
       "      <td>106.000000</td>\n",
       "      <td>122.000000</td>\n",
       "      <td>108.000000</td>\n",
       "      <td>125.000000</td>\n",
       "      <td>...</td>\n",
       "      <td>124.000000</td>\n",
       "      <td>124.000000</td>\n",
       "      <td>124.000000</td>\n",
       "      <td>123.000000</td>\n",
       "      <td>125.000000</td>\n",
       "      <td>124.000000</td>\n",
       "      <td>125.000000</td>\n",
       "      <td>125.000000</td>\n",
       "      <td>125.000000</td>\n",
       "      <td>125.000000</td>\n",
       "    </tr>\n",
       "    <tr>\n",
       "      <th>mean</th>\n",
       "      <td>1.392000</td>\n",
       "      <td>1.112000</td>\n",
       "      <td>577.320000</td>\n",
       "      <td>3.028302</td>\n",
       "      <td>505.241935</td>\n",
       "      <td>1.75200</td>\n",
       "      <td>2.698113</td>\n",
       "      <td>2.786885</td>\n",
       "      <td>1.388889</td>\n",
       "      <td>1.760000</td>\n",
       "      <td>...</td>\n",
       "      <td>2.806452</td>\n",
       "      <td>3.120968</td>\n",
       "      <td>1.217742</td>\n",
       "      <td>1.390244</td>\n",
       "      <td>3.336000</td>\n",
       "      <td>947.580645</td>\n",
       "      <td>555.040000</td>\n",
       "      <td>4.008000</td>\n",
       "      <td>1.512000</td>\n",
       "      <td>1073.400000</td>\n",
       "    </tr>\n",
       "    <tr>\n",
       "      <th>std</th>\n",
       "      <td>0.490161</td>\n",
       "      <td>0.316636</td>\n",
       "      <td>131.214156</td>\n",
       "      <td>0.639308</td>\n",
       "      <td>230.840506</td>\n",
       "      <td>0.43359</td>\n",
       "      <td>1.972042</td>\n",
       "      <td>1.038351</td>\n",
       "      <td>0.974759</td>\n",
       "      <td>0.766222</td>\n",
       "      <td>...</td>\n",
       "      <td>1.423824</td>\n",
       "      <td>1.115980</td>\n",
       "      <td>0.414385</td>\n",
       "      <td>0.489800</td>\n",
       "      <td>1.436528</td>\n",
       "      <td>202.090179</td>\n",
       "      <td>152.370379</td>\n",
       "      <td>1.081337</td>\n",
       "      <td>0.501867</td>\n",
       "      <td>248.667092</td>\n",
       "    </tr>\n",
       "    <tr>\n",
       "      <th>min</th>\n",
       "      <td>1.000000</td>\n",
       "      <td>1.000000</td>\n",
       "      <td>265.000000</td>\n",
       "      <td>2.000000</td>\n",
       "      <td>315.000000</td>\n",
       "      <td>1.00000</td>\n",
       "      <td>1.000000</td>\n",
       "      <td>1.000000</td>\n",
       "      <td>1.000000</td>\n",
       "      <td>1.000000</td>\n",
       "      <td>...</td>\n",
       "      <td>1.000000</td>\n",
       "      <td>1.000000</td>\n",
       "      <td>1.000000</td>\n",
       "      <td>1.000000</td>\n",
       "      <td>1.000000</td>\n",
       "      <td>580.000000</td>\n",
       "      <td>345.000000</td>\n",
       "      <td>1.000000</td>\n",
       "      <td>1.000000</td>\n",
       "      <td>575.000000</td>\n",
       "    </tr>\n",
       "    <tr>\n",
       "      <th>25%</th>\n",
       "      <td>1.000000</td>\n",
       "      <td>1.000000</td>\n",
       "      <td>430.000000</td>\n",
       "      <td>3.000000</td>\n",
       "      <td>420.000000</td>\n",
       "      <td>2.00000</td>\n",
       "      <td>2.000000</td>\n",
       "      <td>2.000000</td>\n",
       "      <td>1.000000</td>\n",
       "      <td>1.000000</td>\n",
       "      <td>...</td>\n",
       "      <td>2.000000</td>\n",
       "      <td>2.000000</td>\n",
       "      <td>1.000000</td>\n",
       "      <td>1.000000</td>\n",
       "      <td>2.000000</td>\n",
       "      <td>725.000000</td>\n",
       "      <td>500.000000</td>\n",
       "      <td>3.000000</td>\n",
       "      <td>1.000000</td>\n",
       "      <td>900.000000</td>\n",
       "    </tr>\n",
       "    <tr>\n",
       "      <th>50%</th>\n",
       "      <td>1.000000</td>\n",
       "      <td>1.000000</td>\n",
       "      <td>610.000000</td>\n",
       "      <td>3.000000</td>\n",
       "      <td>420.000000</td>\n",
       "      <td>2.00000</td>\n",
       "      <td>2.000000</td>\n",
       "      <td>3.000000</td>\n",
       "      <td>1.000000</td>\n",
       "      <td>2.000000</td>\n",
       "      <td>...</td>\n",
       "      <td>3.000000</td>\n",
       "      <td>3.000000</td>\n",
       "      <td>1.000000</td>\n",
       "      <td>1.000000</td>\n",
       "      <td>3.000000</td>\n",
       "      <td>940.000000</td>\n",
       "      <td>500.000000</td>\n",
       "      <td>4.000000</td>\n",
       "      <td>2.000000</td>\n",
       "      <td>900.000000</td>\n",
       "    </tr>\n",
       "    <tr>\n",
       "      <th>75%</th>\n",
       "      <td>2.000000</td>\n",
       "      <td>1.000000</td>\n",
       "      <td>720.000000</td>\n",
       "      <td>3.000000</td>\n",
       "      <td>420.000000</td>\n",
       "      <td>2.00000</td>\n",
       "      <td>3.000000</td>\n",
       "      <td>3.000000</td>\n",
       "      <td>1.000000</td>\n",
       "      <td>2.000000</td>\n",
       "      <td>...</td>\n",
       "      <td>4.000000</td>\n",
       "      <td>4.000000</td>\n",
       "      <td>1.000000</td>\n",
       "      <td>2.000000</td>\n",
       "      <td>5.000000</td>\n",
       "      <td>1165.000000</td>\n",
       "      <td>690.000000</td>\n",
       "      <td>5.000000</td>\n",
       "      <td>2.000000</td>\n",
       "      <td>1315.000000</td>\n",
       "    </tr>\n",
       "    <tr>\n",
       "      <th>max</th>\n",
       "      <td>2.000000</td>\n",
       "      <td>2.000000</td>\n",
       "      <td>720.000000</td>\n",
       "      <td>4.000000</td>\n",
       "      <td>980.000000</td>\n",
       "      <td>2.00000</td>\n",
       "      <td>9.000000</td>\n",
       "      <td>5.000000</td>\n",
       "      <td>6.000000</td>\n",
       "      <td>4.000000</td>\n",
       "      <td>...</td>\n",
       "      <td>5.000000</td>\n",
       "      <td>6.000000</td>\n",
       "      <td>2.000000</td>\n",
       "      <td>2.000000</td>\n",
       "      <td>5.000000</td>\n",
       "      <td>1165.000000</td>\n",
       "      <td>850.000000</td>\n",
       "      <td>5.000000</td>\n",
       "      <td>2.000000</td>\n",
       "      <td>1315.000000</td>\n",
       "    </tr>\n",
       "  </tbody>\n",
       "</table>\n",
       "<p>8 rows × 46 columns</p>\n",
       "</div>"
      ],
      "text/plain": [
       "           Gender   breakfast  calories_chicken  calories_day  calories_scone  \\\n",
       "count  125.000000  125.000000        125.000000    106.000000      124.000000   \n",
       "mean     1.392000    1.112000        577.320000      3.028302      505.241935   \n",
       "std      0.490161    0.316636        131.214156      0.639308      230.840506   \n",
       "min      1.000000    1.000000        265.000000      2.000000      315.000000   \n",
       "25%      1.000000    1.000000        430.000000      3.000000      420.000000   \n",
       "50%      1.000000    1.000000        610.000000      3.000000      420.000000   \n",
       "75%      2.000000    1.000000        720.000000      3.000000      420.000000   \n",
       "max      2.000000    2.000000        720.000000      4.000000      980.000000   \n",
       "\n",
       "          coffee  comfort_food_reasons_coded        cook     cuisine  \\\n",
       "count  125.00000                  106.000000  122.000000  108.000000   \n",
       "mean     1.75200                    2.698113    2.786885    1.388889   \n",
       "std      0.43359                    1.972042    1.038351    0.974759   \n",
       "min      1.00000                    1.000000    1.000000    1.000000   \n",
       "25%      2.00000                    2.000000    2.000000    1.000000   \n",
       "50%      2.00000                    2.000000    3.000000    1.000000   \n",
       "75%      2.00000                    3.000000    3.000000    1.000000   \n",
       "max      2.00000                    9.000000    5.000000    6.000000   \n",
       "\n",
       "       diet_current_coded       ...         persian_food  \\\n",
       "count          125.000000       ...           124.000000   \n",
       "mean             1.760000       ...             2.806452   \n",
       "std              0.766222       ...             1.423824   \n",
       "min              1.000000       ...             1.000000   \n",
       "25%              1.000000       ...             2.000000   \n",
       "50%              2.000000       ...             3.000000   \n",
       "75%              2.000000       ...             4.000000   \n",
       "max              4.000000       ...             5.000000   \n",
       "\n",
       "       self_perception_weight        soup      sports   thai_food  \\\n",
       "count              124.000000  124.000000  123.000000  125.000000   \n",
       "mean                 3.120968    1.217742    1.390244    3.336000   \n",
       "std                  1.115980    0.414385    0.489800    1.436528   \n",
       "min                  1.000000    1.000000    1.000000    1.000000   \n",
       "25%                  2.000000    1.000000    1.000000    2.000000   \n",
       "50%                  3.000000    1.000000    1.000000    3.000000   \n",
       "75%                  4.000000    1.000000    2.000000    5.000000   \n",
       "max                  6.000000    2.000000    2.000000    5.000000   \n",
       "\n",
       "       tortilla_calories  turkey_calories  veggies_day    vitamins  \\\n",
       "count         124.000000       125.000000   125.000000  125.000000   \n",
       "mean          947.580645       555.040000     4.008000    1.512000   \n",
       "std           202.090179       152.370379     1.081337    0.501867   \n",
       "min           580.000000       345.000000     1.000000    1.000000   \n",
       "25%           725.000000       500.000000     3.000000    1.000000   \n",
       "50%           940.000000       500.000000     4.000000    2.000000   \n",
       "75%          1165.000000       690.000000     5.000000    2.000000   \n",
       "max          1165.000000       850.000000     5.000000    2.000000   \n",
       "\n",
       "       waffle_calories  \n",
       "count       125.000000  \n",
       "mean       1073.400000  \n",
       "std         248.667092  \n",
       "min         575.000000  \n",
       "25%         900.000000  \n",
       "50%         900.000000  \n",
       "75%        1315.000000  \n",
       "max        1315.000000  \n",
       "\n",
       "[8 rows x 46 columns]"
      ]
     },
     "execution_count": 164,
     "metadata": {},
     "output_type": "execute_result"
    }
   ],
   "source": [
    "data.describe()"
   ]
  },
  {
   "cell_type": "code",
   "execution_count": 165,
   "metadata": {},
   "outputs": [
    {
     "data": {
      "text/plain": [
       "(125, 60)"
      ]
     },
     "execution_count": 165,
     "metadata": {},
     "output_type": "execute_result"
    }
   ],
   "source": [
    "data.shape"
   ]
  },
  {
   "cell_type": "markdown",
   "metadata": {},
   "source": [
    "<font size=6>1.Data cleaning part </font>"
   ]
  },
  {
   "cell_type": "code",
   "execution_count": 166,
   "metadata": {
    "collapsed": true
   },
   "outputs": [],
   "source": [
    "#Excluding open ended columns,textual features will be used for text analysing.\n",
    "open_ended_columns = ['comfort_food','comfort_food_reasons','diet_current','eating_changes',\n",
    "                      'father_profession','mother_profession','fav_cuisine','food_childhood',\n",
    "                      'healthy_meal','ideal_diet','meals_dinner_friend','type_sports']\n",
    "food = data.drop(open_ended_columns,axis=1)"
   ]
  },
  {
   "cell_type": "code",
   "execution_count": 167,
   "metadata": {},
   "outputs": [
    {
     "data": {
      "text/plain": [
       "(125, 48)"
      ]
     },
     "execution_count": 167,
     "metadata": {},
     "output_type": "execute_result"
    }
   ],
   "source": [
    "food.shape"
   ]
  },
  {
   "cell_type": "markdown",
   "metadata": {},
   "source": [
    "<font size=4>**GPA** </font>"
   ]
  },
  {
   "cell_type": "code",
   "execution_count": 168,
   "metadata": {
    "collapsed": true
   },
   "outputs": [],
   "source": [
    "#Checking if contains any inappropraite values\n",
    "#Replace all matching letters and symbols with ‘’\n",
    "food['GPA'] = food['GPA'].str.replace('[a-z]|[A-Z]|\\,|\\'|\\s','')"
   ]
  },
  {
   "cell_type": "code",
   "execution_count": 169,
   "metadata": {},
   "outputs": [
    {
     "data": {
      "text/plain": [
       "False    123\n",
       "True       2\n",
       "Name: GPA, dtype: int64"
      ]
     },
     "execution_count": 169,
     "metadata": {},
     "output_type": "execute_result"
    }
   ],
   "source": [
    "#Checking if contains any missing values\n",
    "food['GPA'].isnull().value_counts()"
   ]
  },
  {
   "cell_type": "code",
   "execution_count": 170,
   "metadata": {
    "collapsed": true
   },
   "outputs": [],
   "source": [
    "#filling the null value with 0 to calculate the average of GPA.\n",
    "food['GPA'].fillna(0,inplace=True)"
   ]
  },
  {
   "cell_type": "code",
   "execution_count": 171,
   "metadata": {
    "collapsed": true
   },
   "outputs": [],
   "source": [
    "#filling the '' value with 0 after removing inappropraite values\n",
    "food['GPA'].replace(to_replace='',value=0,inplace=True)"
   ]
  },
  {
   "cell_type": "code",
   "execution_count": 172,
   "metadata": {
    "collapsed": true
   },
   "outputs": [],
   "source": [
    "#Set the data type of GPA as float\n",
    "food['GPA']=food['GPA'].astype('float')"
   ]
  },
  {
   "cell_type": "code",
   "execution_count": 173,
   "metadata": {
    "collapsed": true
   },
   "outputs": [],
   "source": [
    "#Calculating the mean of GPA\n",
    "gpa_mean=round(food['GPA'].mean(),3)"
   ]
  },
  {
   "cell_type": "code",
   "execution_count": 174,
   "metadata": {
    "scrolled": false
   },
   "outputs": [
    {
     "data": {
      "text/plain": [
       "array([ 2.4  ,  3.654,  3.3  ,  3.2  ,  3.5  ,  2.25 ,  3.8  ,  3.904,\n",
       "        3.4  ,  3.6  ,  3.1  ,  3.309,  4.   ,  2.2  ,  3.87 ,  3.7  ,\n",
       "        3.9  ,  2.8  ,  3.   ,  3.65 ,  3.89 ,  2.9  ,  3.605,  3.83 ,\n",
       "        3.292,  3.35 ,  2.6  ,  3.67 ,  3.73 ,  3.79 ,  2.71 ,  3.68 ,\n",
       "        3.75 ,  3.92 ,  3.77 ,  3.63 ,  3.882])"
      ]
     },
     "execution_count": 174,
     "metadata": {},
     "output_type": "execute_result"
    }
   ],
   "source": [
    "#Replacing all the 0 values with GPA's mean value\n",
    "food['GPA'].replace(to_replace=0,value=gpa_mean,inplace=True)\n",
    "food['GPA'].unique()"
   ]
  },
  {
   "cell_type": "markdown",
   "metadata": {},
   "source": [
    "<font size=4>**Weight** </font>"
   ]
  },
  {
   "cell_type": "code",
   "execution_count": 175,
   "metadata": {
    "collapsed": true
   },
   "outputs": [],
   "source": [
    "food['weight'] = food['weight'].str.replace('[a-z]|[A-Z]|\\,|\\'|\\.|\\s','')"
   ]
  },
  {
   "cell_type": "code",
   "execution_count": 176,
   "metadata": {
    "collapsed": true
   },
   "outputs": [],
   "source": [
    "food['weight'].fillna(0,inplace=True)\n",
    "food['weight'].replace(to_replace='',value=0,inplace=True)"
   ]
  },
  {
   "cell_type": "code",
   "execution_count": 177,
   "metadata": {},
   "outputs": [
    {
     "data": {
      "text/plain": [
       "array([187, 155, 240, 190, 180, 137, 125, 116, 110, 264, 123, 185, 145,\n",
       "       170, 135, 165, 175, 195, 105, 160, 167, 115, 205, 128, 150, 140,\n",
       "       120, 100, 113, 168, 169, 200, 265, 192, 118, 210, 112, 144, 130,\n",
       "       127, 129, 260, 184, 230, 138, 156])"
      ]
     },
     "execution_count": 177,
     "metadata": {},
     "output_type": "execute_result"
    }
   ],
   "source": [
    "food['weight'] = food['weight'].astype('int');\n",
    "weight_mean = round(food['weight'].mean())\n",
    "food['weight'].replace(to_replace=0,value=weight_mean,inplace=True)\n",
    "food['weight'].unique()"
   ]
  },
  {
   "cell_type": "markdown",
   "metadata": {},
   "source": [
    "<font size=4>Data cleaning part of numeric variables</font>\n"
   ]
  },
  {
   "cell_type": "markdown",
   "metadata": {},
   "source": [
    "<font size=4>**calories_chicken** </font>"
   ]
  },
  {
   "cell_type": "code",
   "execution_count": 178,
   "metadata": {},
   "outputs": [
    {
     "data": {
      "text/plain": [
       "False    125\n",
       "Name: calories_chicken, dtype: int64"
      ]
     },
     "execution_count": 178,
     "metadata": {},
     "output_type": "execute_result"
    }
   ],
   "source": [
    "#Checking if calories_chicken column contains any missing values.And the\n",
    "#result shows that there are not any null value in calores_chicken column.\n",
    "food['calories_chicken'].isnull().value_counts()"
   ]
  },
  {
   "cell_type": "code",
   "execution_count": 179,
   "metadata": {
    "collapsed": true
   },
   "outputs": [],
   "source": [
    "#Set the data type of GPA as int.\n",
    "food['calories_chicken'] = food['calories_chicken'].astype('int')"
   ]
  },
  {
   "cell_type": "markdown",
   "metadata": {},
   "source": [
    "<font size=4>**calories_day** </font>"
   ]
  },
  {
   "cell_type": "code",
   "execution_count": 180,
   "metadata": {},
   "outputs": [
    {
     "data": {
      "text/plain": [
       "False    106\n",
       "True      19\n",
       "Name: calories_day, dtype: int64"
      ]
     },
     "execution_count": 180,
     "metadata": {},
     "output_type": "execute_result"
    }
   ],
   "source": [
    "#Checking if calories_day column contains any missing values.And the\n",
    "#result shows that there are 19 null values in calores_day column.\n",
    "food['calories_day'].isnull().value_counts()"
   ]
  },
  {
   "cell_type": "code",
   "execution_count": 181,
   "metadata": {
    "collapsed": true
   },
   "outputs": [],
   "source": [
    "#Filling the null value with 0.\n",
    "food['calories_day'].fillna(0,inplace=True)"
   ]
  },
  {
   "cell_type": "code",
   "execution_count": 182,
   "metadata": {
    "collapsed": true
   },
   "outputs": [],
   "source": [
    "#Using median of calories_day to fill the missing values\n",
    "calday_median = food['calories_day'].median()"
   ]
  },
  {
   "cell_type": "code",
   "execution_count": 183,
   "metadata": {
    "collapsed": true
   },
   "outputs": [],
   "source": [
    "food['calories_day'].replace(to_replace=0,value=calday_median,inplace=True)"
   ]
  },
  {
   "cell_type": "code",
   "execution_count": 184,
   "metadata": {},
   "outputs": [
    {
     "data": {
      "text/plain": [
       "3    82\n",
       "4    23\n",
       "2    20\n",
       "Name: calories_day, dtype: int64"
      ]
     },
     "execution_count": 184,
     "metadata": {},
     "output_type": "execute_result"
    }
   ],
   "source": [
    "food['calories_day'] = food['calories_day'].astype('int')\n",
    "food['calories_day'].value_counts()"
   ]
  },
  {
   "cell_type": "markdown",
   "metadata": {},
   "source": [
    "<font size=4>**calories_Scone** </font>"
   ]
  },
  {
   "cell_type": "code",
   "execution_count": 185,
   "metadata": {},
   "outputs": [
    {
     "data": {
      "text/plain": [
       "False    124\n",
       "True       1\n",
       "Name: calories_scone, dtype: int64"
      ]
     },
     "execution_count": 185,
     "metadata": {},
     "output_type": "execute_result"
    }
   ],
   "source": [
    "food['calories_scone'].isnull().value_counts()"
   ]
  },
  {
   "cell_type": "code",
   "execution_count": 186,
   "metadata": {},
   "outputs": [
    {
     "data": {
      "text/plain": [
       "420    80\n",
       "980    23\n",
       "315    22\n",
       "Name: calories_scone, dtype: int64"
      ]
     },
     "execution_count": 186,
     "metadata": {},
     "output_type": "execute_result"
    }
   ],
   "source": [
    "food['calories_scone'].fillna(0,inplace=True)\n",
    "c_scone_median = food['calories_scone'].median()\n",
    "food['calories_scone'].replace(to_replace=0,value=c_scone_median,inplace=True)\n",
    "food['calories_scone'] = food['calories_scone'].astype('int')\n",
    "food['calories_scone'].value_counts()"
   ]
  },
  {
   "cell_type": "markdown",
   "metadata": {},
   "source": [
    "<font size=4>**ethnic_food** </font>"
   ]
  },
  {
   "cell_type": "code",
   "execution_count": 189,
   "metadata": {},
   "outputs": [
    {
     "data": {
      "text/plain": [
       "False    125\n",
       "Name: ethnic_food, dtype: int64"
      ]
     },
     "execution_count": 189,
     "metadata": {},
     "output_type": "execute_result"
    }
   ],
   "source": [
    "food['ethnic_food'].isnull().value_counts()"
   ]
  },
  {
   "cell_type": "code",
   "execution_count": 190,
   "metadata": {},
   "outputs": [
    {
     "data": {
      "text/plain": [
       "5    42\n",
       "4    36\n",
       "3    25\n",
       "2    17\n",
       "1     5\n",
       "Name: ethnic_food, dtype: int64"
      ]
     },
     "execution_count": 190,
     "metadata": {},
     "output_type": "execute_result"
    }
   ],
   "source": [
    "food['ethnic_food'] = food['ethnic_food'].astype('int')\n",
    "food['ethnic_food'].value_counts()"
   ]
  },
  {
   "cell_type": "markdown",
   "metadata": {},
   "source": [
    "<font size=4>**fruit_day** </font>"
   ]
  },
  {
   "cell_type": "code",
   "execution_count": 191,
   "metadata": {},
   "outputs": [
    {
     "data": {
      "text/plain": [
       "False    125\n",
       "Name: fruit_day, dtype: int64"
      ]
     },
     "execution_count": 191,
     "metadata": {},
     "output_type": "execute_result"
    }
   ],
   "source": [
    "food['fruit_day'].isnull().value_counts()"
   ]
  },
  {
   "cell_type": "code",
   "execution_count": 192,
   "metadata": {},
   "outputs": [
    {
     "data": {
      "text/plain": [
       "5    63\n",
       "4    33\n",
       "3    24\n",
       "2     4\n",
       "1     1\n",
       "Name: fruit_day, dtype: int64"
      ]
     },
     "execution_count": 192,
     "metadata": {},
     "output_type": "execute_result"
    }
   ],
   "source": [
    "food['fruit_day'] = food['fruit_day'].astype('int')\n",
    "food['fruit_day'].value_counts()"
   ]
  },
  {
   "cell_type": "markdown",
   "metadata": {},
   "source": [
    "<font size=4>**greek_food** </font>"
   ]
  },
  {
   "cell_type": "code",
   "execution_count": 193,
   "metadata": {},
   "outputs": [
    {
     "data": {
      "text/plain": [
       "False    125\n",
       "Name: greek_food, dtype: int64"
      ]
     },
     "execution_count": 193,
     "metadata": {},
     "output_type": "execute_result"
    }
   ],
   "source": [
    "food['greek_food'].isnull().value_counts()"
   ]
  },
  {
   "cell_type": "code",
   "execution_count": 194,
   "metadata": {},
   "outputs": [
    {
     "data": {
      "text/plain": [
       "5    41\n",
       "3    32\n",
       "4    23\n",
       "1    15\n",
       "2    14\n",
       "Name: greek_food, dtype: int64"
      ]
     },
     "execution_count": 194,
     "metadata": {},
     "output_type": "execute_result"
    }
   ],
   "source": [
    "food['greek_food'] = food['greek_food'].astype('int')\n",
    "food['greek_food'].value_counts()"
   ]
  },
  {
   "cell_type": "markdown",
   "metadata": {},
   "source": [
    "<font size=4>**healthy_feeling** </font>"
   ]
  },
  {
   "cell_type": "code",
   "execution_count": 195,
   "metadata": {},
   "outputs": [
    {
     "data": {
      "text/plain": [
       "False    125\n",
       "Name: healthy_feeling, dtype: int64"
      ]
     },
     "execution_count": 195,
     "metadata": {},
     "output_type": "execute_result"
    }
   ],
   "source": [
    "food['healthy_feeling'].isnull().value_counts()"
   ]
  },
  {
   "cell_type": "code",
   "execution_count": 196,
   "metadata": {},
   "outputs": [
    {
     "data": {
      "text/plain": [
       "8     17\n",
       "7     16\n",
       "5     15\n",
       "3     15\n",
       "4     13\n",
       "9     12\n",
       "6     12\n",
       "2     12\n",
       "1      8\n",
       "10     5\n",
       "Name: healthy_feeling, dtype: int64"
      ]
     },
     "execution_count": 196,
     "metadata": {},
     "output_type": "execute_result"
    }
   ],
   "source": [
    "food['healthy_feeling'] = food['healthy_feeling'].astype('int')\n",
    "food['healthy_feeling'].value_counts()"
   ]
  },
  {
   "cell_type": "markdown",
   "metadata": {},
   "source": [
    "<font size=4>**indian_food** </font>"
   ]
  },
  {
   "cell_type": "code",
   "execution_count": 197,
   "metadata": {},
   "outputs": [
    {
     "data": {
      "text/plain": [
       "False    125\n",
       "Name: indian_food, dtype: int64"
      ]
     },
     "execution_count": 197,
     "metadata": {},
     "output_type": "execute_result"
    }
   ],
   "source": [
    "food['indian_food'].isnull().value_counts()"
   ]
  },
  {
   "cell_type": "code",
   "execution_count": 198,
   "metadata": {
    "collapsed": true
   },
   "outputs": [],
   "source": [
    "food['indian_food'] = food['indian_food'].astype('int')"
   ]
  },
  {
   "cell_type": "code",
   "execution_count": 199,
   "metadata": {},
   "outputs": [
    {
     "data": {
      "text/plain": [
       "5    36\n",
       "3    31\n",
       "1    25\n",
       "2    18\n",
       "4    15\n",
       "Name: indian_food, dtype: int64"
      ]
     },
     "execution_count": 199,
     "metadata": {},
     "output_type": "execute_result"
    }
   ],
   "source": [
    "food['indian_food'].value_counts()"
   ]
  },
  {
   "cell_type": "markdown",
   "metadata": {},
   "source": [
    "<font size=4>**italian_food** </font>"
   ]
  },
  {
   "cell_type": "code",
   "execution_count": 200,
   "metadata": {},
   "outputs": [
    {
     "data": {
      "text/plain": [
       "False    125\n",
       "Name: italian_food, dtype: int64"
      ]
     },
     "execution_count": 200,
     "metadata": {},
     "output_type": "execute_result"
    }
   ],
   "source": [
    "food['italian_food'].isnull().value_counts()"
   ]
  },
  {
   "cell_type": "code",
   "execution_count": 201,
   "metadata": {
    "collapsed": true
   },
   "outputs": [],
   "source": [
    "food['italian_food'] = food['italian_food'].astype('int')"
   ]
  },
  {
   "cell_type": "code",
   "execution_count": 202,
   "metadata": {},
   "outputs": [
    {
     "data": {
      "text/plain": [
       "5    100\n",
       "4     16\n",
       "3      9\n",
       "Name: italian_food, dtype: int64"
      ]
     },
     "execution_count": 202,
     "metadata": {},
     "output_type": "execute_result"
    }
   ],
   "source": [
    "food['italian_food'].value_counts()"
   ]
  },
  {
   "cell_type": "markdown",
   "metadata": {},
   "source": [
    "<font size=4>**life_rewarding** </font>"
   ]
  },
  {
   "cell_type": "code",
   "execution_count": 203,
   "metadata": {},
   "outputs": [
    {
     "data": {
      "text/plain": [
       "False    124\n",
       "True       1\n",
       "Name: life_rewarding, dtype: int64"
      ]
     },
     "execution_count": 203,
     "metadata": {},
     "output_type": "execute_result"
    }
   ],
   "source": [
    "food['life_rewarding'].isnull().value_counts()"
   ]
  },
  {
   "cell_type": "code",
   "execution_count": 204,
   "metadata": {},
   "outputs": [
    {
     "data": {
      "text/plain": [
       "1     23\n",
       "8     18\n",
       "3     15\n",
       "7     14\n",
       "2     13\n",
       "9     11\n",
       "5     11\n",
       "10    10\n",
       "4      6\n",
       "6      4\n",
       "Name: life_rewarding, dtype: int64"
      ]
     },
     "execution_count": 204,
     "metadata": {},
     "output_type": "execute_result"
    }
   ],
   "source": [
    "food['life_rewarding'].fillna(0,inplace=True)\n",
    "lr_median = food['life_rewarding'].median()\n",
    "food['life_rewarding'].replace(to_replace=0,value=lr_median,inplace=True)\n",
    "food['life_rewarding'] = food['life_rewarding'].astype('int')\n",
    "food['life_rewarding'].value_counts()"
   ]
  },
  {
   "cell_type": "markdown",
   "metadata": {},
   "source": [
    "<font size=4>**persian_food** </font>"
   ]
  },
  {
   "cell_type": "code",
   "execution_count": 205,
   "metadata": {},
   "outputs": [
    {
     "data": {
      "text/plain": [
       "False    124\n",
       "True       1\n",
       "Name: persian_food, dtype: int64"
      ]
     },
     "execution_count": 205,
     "metadata": {},
     "output_type": "execute_result"
    }
   ],
   "source": [
    "food['persian_food'].isnull().value_counts()"
   ]
  },
  {
   "cell_type": "code",
   "execution_count": 206,
   "metadata": {},
   "outputs": [
    {
     "data": {
      "text/plain": [
       "3    30\n",
       "1    30\n",
       "2    26\n",
       "5    23\n",
       "4    16\n",
       "Name: persian_food, dtype: int64"
      ]
     },
     "execution_count": 206,
     "metadata": {},
     "output_type": "execute_result"
    }
   ],
   "source": [
    "food['persian_food'].fillna(0,inplace=True)\n",
    "pf_median = food['persian_food'].median()\n",
    "food['persian_food'].replace(to_replace=0,value=pf_median,inplace=True)\n",
    "food['persian_food'] = food['persian_food'].astype('int')\n",
    "food['persian_food'].value_counts()"
   ]
  },
  {
   "cell_type": "markdown",
   "metadata": {},
   "source": [
    "<font size=4>**thai_food** </font>"
   ]
  },
  {
   "cell_type": "code",
   "execution_count": 207,
   "metadata": {},
   "outputs": [
    {
     "data": {
      "text/plain": [
       "False    125\n",
       "Name: thai_food, dtype: int64"
      ]
     },
     "execution_count": 207,
     "metadata": {},
     "output_type": "execute_result"
    }
   ],
   "source": [
    "food['thai_food'].isnull().value_counts()"
   ]
  },
  {
   "cell_type": "code",
   "execution_count": 208,
   "metadata": {},
   "outputs": [
    {
     "data": {
      "text/plain": [
       "5    37\n",
       "3    26\n",
       "4    25\n",
       "1    20\n",
       "2    17\n",
       "Name: thai_food, dtype: int64"
      ]
     },
     "execution_count": 208,
     "metadata": {},
     "output_type": "execute_result"
    }
   ],
   "source": [
    "food['thai_food'] = food['thai_food'].astype('int')\n",
    "food['thai_food'].value_counts()"
   ]
  },
  {
   "cell_type": "markdown",
   "metadata": {},
   "source": [
    "<font size=4>**tortilla_calories** </font>"
   ]
  },
  {
   "cell_type": "code",
   "execution_count": 209,
   "metadata": {},
   "outputs": [
    {
     "data": {
      "text/plain": [
       "False    124\n",
       "True       1\n",
       "Name: tortilla_calories, dtype: int64"
      ]
     },
     "execution_count": 209,
     "metadata": {},
     "output_type": "execute_result"
    }
   ],
   "source": [
    "food['tortilla_calories'].isnull().value_counts()"
   ]
  },
  {
   "cell_type": "code",
   "execution_count": 210,
   "metadata": {},
   "outputs": [
    {
     "data": {
      "text/plain": [
       "1165    46\n",
       "940     44\n",
       "725     22\n",
       "580     13\n",
       "Name: tortilla_calories, dtype: int64"
      ]
     },
     "execution_count": 210,
     "metadata": {},
     "output_type": "execute_result"
    }
   ],
   "source": [
    "food['tortilla_calories'].fillna(0,inplace=True)\n",
    "tc_median = food['tortilla_calories'].median()\n",
    "food['tortilla_calories'].replace(to_replace=0,value=tc_median,inplace=True)\n",
    "food['tortilla_calories'] = food['tortilla_calories'].astype('int')\n",
    "food['tortilla_calories'].value_counts()"
   ]
  },
  {
   "cell_type": "markdown",
   "metadata": {},
   "source": [
    "<font size=4>**turkey_calories** </font>"
   ]
  },
  {
   "cell_type": "code",
   "execution_count": 211,
   "metadata": {},
   "outputs": [
    {
     "data": {
      "text/plain": [
       "False    125\n",
       "Name: turkey_calories, dtype: int64"
      ]
     },
     "execution_count": 211,
     "metadata": {},
     "output_type": "execute_result"
    }
   ],
   "source": [
    "food['turkey_calories'].isnull().value_counts()"
   ]
  },
  {
   "cell_type": "code",
   "execution_count": 212,
   "metadata": {},
   "outputs": [
    {
     "data": {
      "text/plain": [
       "500    50\n",
       "690    39\n",
       "345    26\n",
       "850    10\n",
       "Name: turkey_calories, dtype: int64"
      ]
     },
     "execution_count": 212,
     "metadata": {},
     "output_type": "execute_result"
    }
   ],
   "source": [
    "food['turkey_calories'] = food['turkey_calories'].astype('int')\n",
    "food['turkey_calories'].value_counts()"
   ]
  },
  {
   "cell_type": "markdown",
   "metadata": {},
   "source": [
    "<font size=4>**veggies_day** </font>"
   ]
  },
  {
   "cell_type": "code",
   "execution_count": 213,
   "metadata": {},
   "outputs": [
    {
     "data": {
      "text/plain": [
       "False    125\n",
       "Name: veggies_day, dtype: int64"
      ]
     },
     "execution_count": 213,
     "metadata": {},
     "output_type": "execute_result"
    }
   ],
   "source": [
    "food['veggies_day'].isnull().value_counts()"
   ]
  },
  {
   "cell_type": "code",
   "execution_count": 214,
   "metadata": {},
   "outputs": [
    {
     "data": {
      "text/plain": [
       "5    53\n",
       "4    37\n",
       "3    21\n",
       "2    11\n",
       "1     3\n",
       "Name: veggies_day, dtype: int64"
      ]
     },
     "execution_count": 214,
     "metadata": {},
     "output_type": "execute_result"
    }
   ],
   "source": [
    "food['veggies_day'] = food['veggies_day'].astype('int')\n",
    "food['veggies_day'].value_counts()"
   ]
  },
  {
   "cell_type": "markdown",
   "metadata": {},
   "source": [
    "<font size=4>**waffle_calories** </font>"
   ]
  },
  {
   "cell_type": "code",
   "execution_count": 215,
   "metadata": {},
   "outputs": [
    {
     "data": {
      "text/plain": [
       "False    125\n",
       "Name: waffle_calories, dtype: int64"
      ]
     },
     "execution_count": 215,
     "metadata": {},
     "output_type": "execute_result"
    }
   ],
   "source": [
    "food['waffle_calories'].isnull().value_counts()"
   ]
  },
  {
   "cell_type": "code",
   "execution_count": 216,
   "metadata": {},
   "outputs": [
    {
     "data": {
      "text/plain": [
       "1315    62\n",
       "900     38\n",
       "760     22\n",
       "575      3\n",
       "Name: waffle_calories, dtype: int64"
      ]
     },
     "execution_count": 216,
     "metadata": {},
     "output_type": "execute_result"
    }
   ],
   "source": [
    "food['waffle_calories'] = food['waffle_calories'].astype('int')\n",
    "food['waffle_calories'].value_counts()"
   ]
  },
  {
   "cell_type": "markdown",
   "metadata": {},
   "source": [
    "<font size=4>Data cleaning part of categorical variables</font>\n"
   ]
  },
  {
   "cell_type": "markdown",
   "metadata": {},
   "source": [
    "<font size=4>**Gender** </font>"
   ]
  },
  {
   "cell_type": "code",
   "execution_count": 217,
   "metadata": {},
   "outputs": [
    {
     "data": {
      "text/plain": [
       "False    125\n",
       "Name: Gender, dtype: int64"
      ]
     },
     "execution_count": 217,
     "metadata": {},
     "output_type": "execute_result"
    }
   ],
   "source": [
    "food['Gender'].isnull().value_counts()"
   ]
  },
  {
   "cell_type": "code",
   "execution_count": 218,
   "metadata": {},
   "outputs": [
    {
     "data": {
      "text/plain": [
       "Female    76\n",
       "Male      49\n",
       "Name: Gender, dtype: int64"
      ]
     },
     "execution_count": 218,
     "metadata": {},
     "output_type": "execute_result"
    }
   ],
   "source": [
    "#Setting the data type as  category and converting the numbers to\n",
    "#their true meaning respectively\n",
    "food['Gender'] = food['Gender'].astype('category')\n",
    "food['Gender'].cat.categories = ['Female','Male']\n",
    "food['Gender'].value_counts()"
   ]
  },
  {
   "cell_type": "markdown",
   "metadata": {},
   "source": [
    "<font size=4>**breakfast** </font>"
   ]
  },
  {
   "cell_type": "code",
   "execution_count": 219,
   "metadata": {},
   "outputs": [
    {
     "data": {
      "text/plain": [
       "False    125\n",
       "Name: breakfast, dtype: int64"
      ]
     },
     "execution_count": 219,
     "metadata": {},
     "output_type": "execute_result"
    }
   ],
   "source": [
    "food['breakfast'].isnull().value_counts()"
   ]
  },
  {
   "cell_type": "code",
   "execution_count": 220,
   "metadata": {},
   "outputs": [
    {
     "data": {
      "text/plain": [
       "cereal    111\n",
       "donut      14\n",
       "Name: breakfast, dtype: int64"
      ]
     },
     "execution_count": 220,
     "metadata": {},
     "output_type": "execute_result"
    }
   ],
   "source": [
    "food['breakfast'] = food['breakfast'].astype('category')\n",
    "food['breakfast'].cat.categories = ['cereal','donut']\n",
    "food['breakfast'].value_counts()"
   ]
  },
  {
   "cell_type": "markdown",
   "metadata": {},
   "source": [
    "<font size=4>**coffee** </font>"
   ]
  },
  {
   "cell_type": "code",
   "execution_count": 221,
   "metadata": {},
   "outputs": [
    {
     "data": {
      "text/plain": [
       "False    125\n",
       "Name: coffee, dtype: int64"
      ]
     },
     "execution_count": 221,
     "metadata": {},
     "output_type": "execute_result"
    }
   ],
   "source": [
    "food['coffee'].isnull().value_counts()"
   ]
  },
  {
   "cell_type": "code",
   "execution_count": 222,
   "metadata": {},
   "outputs": [
    {
     "data": {
      "text/plain": [
       "espresso      94\n",
       "frapuccino    31\n",
       "Name: coffee, dtype: int64"
      ]
     },
     "execution_count": 222,
     "metadata": {},
     "output_type": "execute_result"
    }
   ],
   "source": [
    "food['coffee'] = food['coffee'].astype('category')\n",
    "food['coffee'].cat.categories = ['frapuccino','espresso']\n",
    "food['coffee'].value_counts()"
   ]
  },
  {
   "cell_type": "markdown",
   "metadata": {},
   "source": [
    "<font size=4>**comfort_food_reasons_coded** </font>"
   ]
  },
  {
   "cell_type": "code",
   "execution_count": 223,
   "metadata": {},
   "outputs": [
    {
     "data": {
      "text/plain": [
       "False    125\n",
       "Name: comfort_food_reasons_coded, dtype: int64"
      ]
     },
     "execution_count": 223,
     "metadata": {},
     "output_type": "execute_result"
    }
   ],
   "source": [
    "food['comfort_food_reasons_coded'].isnull().value_counts()"
   ]
  },
  {
   "cell_type": "code",
   "execution_count": 224,
   "metadata": {},
   "outputs": [
    {
     "data": {
      "text/plain": [
       "boredom               68\n",
       "stress                22\n",
       "depression/sadness    18\n",
       "none                   5\n",
       "laziness               4\n",
       "happiness              3\n",
       "hunger                 3\n",
       "watching tv            1\n",
       "cold weather           1\n",
       "Name: comfort_food_reasons_coded, dtype: int64"
      ]
     },
     "execution_count": 224,
     "metadata": {},
     "output_type": "execute_result"
    }
   ],
   "source": [
    "food['comfort_food_reasons_coded'] = food['comfort_food_reasons_coded'].astype('category')\n",
    "food['comfort_food_reasons_coded'].cat.categories = ['stress','boredom','depression/sadness',\n",
    "                                                    'hunger','laziness','cold weather',\n",
    "                                                    'happiness','watching tv','none']\n",
    "food['comfort_food_reasons_coded'].value_counts()"
   ]
  },
  {
   "cell_type": "markdown",
   "metadata": {},
   "source": [
    "<font size=4>**cook** </font>"
   ]
  },
  {
   "cell_type": "code",
   "execution_count": 225,
   "metadata": {},
   "outputs": [
    {
     "data": {
      "text/plain": [
       "False    122\n",
       "True       3\n",
       "Name: cook, dtype: int64"
      ]
     },
     "execution_count": 225,
     "metadata": {},
     "output_type": "execute_result"
    }
   ],
   "source": [
    "food['cook'].isnull().value_counts()"
   ]
  },
  {
   "cell_type": "code",
   "execution_count": 226,
   "metadata": {},
   "outputs": [
    {
     "data": {
      "text/plain": [
       "not very often               52\n",
       "couple of times a week       34\n",
       "only help during holidays    18\n",
       "Every day                    13\n",
       "Never                         8\n",
       "Name: cook, dtype: int64"
      ]
     },
     "execution_count": 226,
     "metadata": {},
     "output_type": "execute_result"
    }
   ],
   "source": [
    "food['cook'].fillna(0,inplace=True)\n",
    "median_cook = food['cook'].median()\n",
    "food['cook'].replace(to_replace=0,value=median_cook,inplace=True)\n",
    "food['cook'] = food['cook'].astype('category')\n",
    "food['cook'].cat.categories = ['Every day','couple of times a week',\n",
    "                                    'not very often','only help during holidays',\n",
    "                                    'Never']\n",
    "food['cook'].value_counts()"
   ]
  },
  {
   "cell_type": "markdown",
   "metadata": {},
   "source": [
    "<font size=4>**cuisine** </font>"
   ]
  },
  {
   "cell_type": "code",
   "execution_count": 227,
   "metadata": {},
   "outputs": [
    {
     "data": {
      "text/plain": [
       "False    108\n",
       "True      17\n",
       "Name: cuisine, dtype: int64"
      ]
     },
     "execution_count": 227,
     "metadata": {},
     "output_type": "execute_result"
    }
   ],
   "source": [
    "food['cuisine'].isnull().value_counts()"
   ]
  },
  {
   "cell_type": "code",
   "execution_count": 228,
   "metadata": {},
   "outputs": [
    {
     "data": {
      "text/plain": [
       "American             103\n",
       "Mexican.Spanish       13\n",
       "Indian                 3\n",
       "Korean/Asian           3\n",
       "other                  2\n",
       "American-inspired      1\n",
       "Name: cuisine, dtype: int64"
      ]
     },
     "execution_count": 228,
     "metadata": {},
     "output_type": "execute_result"
    }
   ],
   "source": [
    "food['cuisine'].fillna(0,inplace=True)\n",
    "median_cook = food['cuisine'].median()\n",
    "food['cuisine'].replace(to_replace=0,value=median_cook,inplace=True)\n",
    "food['cuisine'] = food['cuisine'].astype('category')\n",
    "food['cuisine'].cat.categories = ['American','Mexican.Spanish','Korean/Asian',\n",
    "                               'Indian','American-inspired','other']\n",
    "food['cuisine'].value_counts()"
   ]
  },
  {
   "cell_type": "markdown",
   "metadata": {},
   "source": [
    "<font size=4>**diet_current_coded** </font>"
   ]
  },
  {
   "cell_type": "code",
   "execution_count": 229,
   "metadata": {},
   "outputs": [
    {
     "data": {
      "text/plain": [
       "False    125\n",
       "Name: diet_current_coded, dtype: int64"
      ]
     },
     "execution_count": 229,
     "metadata": {},
     "output_type": "execute_result"
    }
   ],
   "source": [
    "food['diet_current_coded'].isnull().value_counts()"
   ]
  },
  {
   "cell_type": "code",
   "execution_count": 230,
   "metadata": {},
   "outputs": [
    {
     "data": {
      "text/plain": [
       "unhealthy/cheap/too much/random/    60\n",
       "healthy/balanced/moderated/         50\n",
       "the same thing over and over        10\n",
       "unclear                              5\n",
       "Name: diet_current_coded, dtype: int64"
      ]
     },
     "execution_count": 230,
     "metadata": {},
     "output_type": "execute_result"
    }
   ],
   "source": [
    "food['diet_current_coded'] = food['diet_current_coded'].astype('category')\n",
    "food['diet_current_coded'].cat.categories = ['healthy/balanced/moderated/',\n",
    "                                             'unhealthy/cheap/too much/random/',\n",
    "                                             'the same thing over and over',\n",
    "                               'unclear']\n",
    "food['diet_current_coded'].value_counts()"
   ]
  },
  {
   "cell_type": "markdown",
   "metadata": {},
   "source": [
    "<font size=4>**drink** </font>"
   ]
  },
  {
   "cell_type": "code",
   "execution_count": 231,
   "metadata": {},
   "outputs": [
    {
     "data": {
      "text/plain": [
       "False    123\n",
       "True       2\n",
       "Name: drink, dtype: int64"
      ]
     },
     "execution_count": 231,
     "metadata": {},
     "output_type": "execute_result"
    }
   ],
   "source": [
    "food['drink'].isnull().value_counts()"
   ]
  },
  {
   "cell_type": "code",
   "execution_count": 232,
   "metadata": {},
   "outputs": [
    {
     "data": {
      "text/plain": [
       "Soda            71\n",
       "Orange-Juice    54\n",
       "Name: drink, dtype: int64"
      ]
     },
     "execution_count": 232,
     "metadata": {},
     "output_type": "execute_result"
    }
   ],
   "source": [
    "food['drink'].fillna(0,inplace=True)\n",
    "median_cook = food['drink'].median()\n",
    "food['drink'].replace(to_replace=0,value=median_cook,inplace=True)\n",
    "food['drink'] = food['drink'].astype('category')\n",
    "food['drink'].cat.categories = ['Orange-Juice','Soda']\n",
    "food['drink'].value_counts()"
   ]
  },
  {
   "cell_type": "markdown",
   "metadata": {},
   "source": [
    "<font size=4>**eating_changes_coded** </font>"
   ]
  },
  {
   "cell_type": "code",
   "execution_count": 233,
   "metadata": {},
   "outputs": [
    {
     "data": {
      "text/plain": [
       "False    125\n",
       "Name: eating_changes_coded, dtype: int64"
      ]
     },
     "execution_count": 233,
     "metadata": {},
     "output_type": "execute_result"
    }
   ],
   "source": [
    "food['eating_changes_coded'].isnull().value_counts()"
   ]
  },
  {
   "cell_type": "code",
   "execution_count": 234,
   "metadata": {},
   "outputs": [
    {
     "data": {
      "text/plain": [
       "array([1, 3, 2, 4])"
      ]
     },
     "execution_count": 234,
     "metadata": {},
     "output_type": "execute_result"
    }
   ],
   "source": [
    "food['eating_changes_coded'].unique()"
   ]
  },
  {
   "cell_type": "code",
   "execution_count": 235,
   "metadata": {},
   "outputs": [
    {
     "data": {
      "text/plain": [
       "worse       75\n",
       "btter       36\n",
       "the same    11\n",
       "unclear      3\n",
       "Name: eating_changes_coded, dtype: int64"
      ]
     },
     "execution_count": 235,
     "metadata": {},
     "output_type": "execute_result"
    }
   ],
   "source": [
    "food['eating_changes_coded'] = food['eating_changes_coded'].astype('category')\n",
    "food['eating_changes_coded'].cat.categories = ['worse','btter','the same',\n",
    "                                              'unclear']\n",
    "food['eating_changes_coded'].value_counts()"
   ]
  },
  {
   "cell_type": "markdown",
   "metadata": {},
   "source": [
    "<font size=4>**eating_changes_coded1** </font>"
   ]
  },
  {
   "cell_type": "code",
   "execution_count": 236,
   "metadata": {},
   "outputs": [
    {
     "data": {
      "text/plain": [
       "False    125\n",
       "Name: eating_changes_coded1, dtype: int64"
      ]
     },
     "execution_count": 236,
     "metadata": {},
     "output_type": "execute_result"
    }
   ],
   "source": [
    "food['eating_changes_coded1'].isnull().value_counts()"
   ]
  },
  {
   "cell_type": "code",
   "execution_count": 237,
   "metadata": {},
   "outputs": [
    {
     "data": {
      "text/plain": [
       "worse quality             44\n",
       "healthier                 32\n",
       "bigger quantity           15\n",
       "same food                 12\n",
       "more carbs or snacking     5\n",
       "less food                  5\n",
       "timing                     3\n",
       "drink coffee               3\n",
       "drink more water           2\n",
       "more variety               1\n",
       "more sweets                1\n",
       "unclear                    1\n",
       "eat faster                 1\n",
       "Name: eating_changes_coded1, dtype: int64"
      ]
     },
     "execution_count": 237,
     "metadata": {},
     "output_type": "execute_result"
    }
   ],
   "source": [
    "food['eating_changes_coded1'] = food['eating_changes_coded1'].astype('category')\n",
    "food['eating_changes_coded1'].cat.categories = ['eat faster','bigger quantity',\n",
    "    'worse quality','same food','healthier','unclear','drink coffee',\n",
    "'less food','more sweets','timing','more carbs or snacking','drink more water','more variety']\n",
    "food['eating_changes_coded1'].value_counts()"
   ]
  },
  {
   "cell_type": "markdown",
   "metadata": {},
   "source": [
    "<font size=4>**eating_out** </font>"
   ]
  },
  {
   "cell_type": "code",
   "execution_count": 238,
   "metadata": {},
   "outputs": [
    {
     "data": {
      "text/plain": [
       "False    125\n",
       "Name: eating_out, dtype: int64"
      ]
     },
     "execution_count": 238,
     "metadata": {},
     "output_type": "execute_result"
    }
   ],
   "source": [
    "food['eating_out'].isnull().value_counts()"
   ]
  },
  {
   "cell_type": "code",
   "execution_count": 239,
   "metadata": {},
   "outputs": [
    {
     "data": {
      "text/plain": [
       "1-2/week     60\n",
       "2-3/week     24\n",
       "Never        16\n",
       "3-5/week     13\n",
       "every day    12\n",
       "Name: eating_out, dtype: int64"
      ]
     },
     "execution_count": 239,
     "metadata": {},
     "output_type": "execute_result"
    }
   ],
   "source": [
    "food['eating_out'] = food['eating_out'].astype('category')\n",
    "food['eating_out'].cat.categories = ['Never','1-2/week','2-3/week','3-5/week','every day']\n",
    "food['eating_out'].value_counts()"
   ]
  },
  {
   "cell_type": "markdown",
   "metadata": {},
   "source": [
    "<font size=4>**employment** </font>"
   ]
  },
  {
   "cell_type": "code",
   "execution_count": 240,
   "metadata": {},
   "outputs": [
    {
     "data": {
      "text/plain": [
       "False    116\n",
       "True       9\n",
       "Name: employment, dtype: int64"
      ]
     },
     "execution_count": 240,
     "metadata": {},
     "output_type": "execute_result"
    }
   ],
   "source": [
    "food['employment'].isnull().value_counts()"
   ]
  },
  {
   "cell_type": "code",
   "execution_count": 241,
   "metadata": {},
   "outputs": [
    {
     "data": {
      "text/plain": [
       "Part-time    69\n",
       "No           54\n",
       "Full-time     2\n",
       "Name: employment, dtype: int64"
      ]
     },
     "execution_count": 241,
     "metadata": {},
     "output_type": "execute_result"
    }
   ],
   "source": [
    "food['employment'].fillna(0,inplace=True)\n",
    "median_e = food['employment'].median()\n",
    "food['employment'].replace(to_replace=0,value=median_e,inplace=True)\n",
    "food['employment'] = food['employment'].astype('category')\n",
    "food['employment'].cat.categories = ['Full-time','Part-time','No']\n",
    "food['employment'].value_counts()"
   ]
  },
  {
   "cell_type": "markdown",
   "metadata": {},
   "source": [
    "<font size=4>**exercise** </font>"
   ]
  },
  {
   "cell_type": "code",
   "execution_count": 242,
   "metadata": {},
   "outputs": [
    {
     "data": {
      "text/plain": [
       "False    112\n",
       "True      13\n",
       "Name: exercise, dtype: int64"
      ]
     },
     "execution_count": 242,
     "metadata": {},
     "output_type": "execute_result"
    }
   ],
   "source": [
    "food['exercise'].isnull().value_counts()"
   ]
  },
  {
   "cell_type": "code",
   "execution_count": 243,
   "metadata": {
    "scrolled": true
   },
   "outputs": [
    {
     "data": {
      "text/plain": [
       "Everyday    70\n",
       "2/3 Week    44\n",
       "1 Week      11\n",
       "Name: exercise, dtype: int64"
      ]
     },
     "execution_count": 243,
     "metadata": {},
     "output_type": "execute_result"
    }
   ],
   "source": [
    "food['exercise'].fillna(0,inplace=True)\n",
    "median_ex = food['exercise'].median()\n",
    "food['exercise'].replace(to_replace=0,value=median_ex,inplace=True)\n",
    "food['exercise'] = food['exercise'].astype('category')\n",
    "food['exercise'].cat.categories = ['Everyday','2/3 Week','1 Week']\n",
    "food['exercise'].value_counts()"
   ]
  },
  {
   "cell_type": "markdown",
   "metadata": {},
   "source": [
    "<font size=4>**father_education** </font>"
   ]
  },
  {
   "cell_type": "code",
   "execution_count": 244,
   "metadata": {},
   "outputs": [
    {
     "data": {
      "text/plain": [
       "False    124\n",
       "True       1\n",
       "Name: father_education, dtype: int64"
      ]
     },
     "execution_count": 244,
     "metadata": {},
     "output_type": "execute_result"
    }
   ],
   "source": [
    "food['father_education'].isnull().value_counts()"
   ]
  },
  {
   "cell_type": "code",
   "execution_count": 245,
   "metadata": {},
   "outputs": [
    {
     "data": {
      "text/plain": [
       "college degree           47\n",
       "high school degree       34\n",
       "graduate degree          28\n",
       "some college degree      12\n",
       "less than high school     4\n",
       "Name: father_education, dtype: int64"
      ]
     },
     "execution_count": 245,
     "metadata": {},
     "output_type": "execute_result"
    }
   ],
   "source": [
    "food['father_education'].fillna(0,inplace=True)\n",
    "median_ed = food['father_education'].median()\n",
    "food['father_education'].replace(to_replace=0,value=median_ed,inplace=True)\n",
    "food['father_education'] = food['father_education'].astype('category')\n",
    "food['father_education'].cat.categories = ['less than high school',\n",
    "                                           'high school degree',\n",
    "                                           'some college degree','college degree',\n",
    "                                           'graduate degree']\n",
    "food['father_education'].value_counts()"
   ]
  },
  {
   "cell_type": "markdown",
   "metadata": {},
   "source": [
    "<font size=4>**fav_cuisine_coded** </font>"
   ]
  },
  {
   "cell_type": "code",
   "execution_count": 246,
   "metadata": {},
   "outputs": [
    {
     "data": {
      "text/plain": [
       "False    125\n",
       "Name: fav_cuisine_coded, dtype: int64"
      ]
     },
     "execution_count": 246,
     "metadata": {},
     "output_type": "execute_result"
    }
   ],
   "source": [
    "food['fav_cuisine_coded'].isnull().value_counts()"
   ]
  },
  {
   "cell_type": "code",
   "execution_count": 247,
   "metadata": {},
   "outputs": [
    {
     "data": {
      "text/plain": [
       "array([3, 1, 6, 4, 5, 7, 2, 8, 0])"
      ]
     },
     "execution_count": 247,
     "metadata": {},
     "output_type": "execute_result"
    }
   ],
   "source": [
    "food['fav_cuisine_coded'].unique()"
   ]
  },
  {
   "cell_type": "code",
   "execution_count": 248,
   "metadata": {
    "collapsed": true
   },
   "outputs": [],
   "source": [
    "median_fcc = food['fav_cuisine_coded'].median()\n",
    "food['fav_cuisine_coded'].replace(to_replace=0,value=median_fcc,inplace=True)"
   ]
  },
  {
   "cell_type": "code",
   "execution_count": 249,
   "metadata": {},
   "outputs": [
    {
     "data": {
      "text/plain": [
       "Italian/French/greek         65\n",
       "asian/chineses/thai/nepal    22\n",
       "American                     15\n",
       "Spanish/mexican              15\n",
       "indian                        4\n",
       "Arabic/Turkish                2\n",
       "Jamaican                      1\n",
       "African                       1\n",
       "Name: fav_cuisine_coded, dtype: int64"
      ]
     },
     "execution_count": 249,
     "metadata": {},
     "output_type": "execute_result"
    }
   ],
   "source": [
    "food['fav_cuisine_coded'] = food['fav_cuisine_coded'].astype('category')\n",
    "food['fav_cuisine_coded'].cat.categories = ['Italian/French/greek','Spanish/mexican',\n",
    "    'Arabic/Turkish','asian/chineses/thai/nepal','American','African','Jamaican','indian']\n",
    "food['fav_cuisine_coded'].value_counts()"
   ]
  },
  {
   "cell_type": "markdown",
   "metadata": {},
   "source": [
    "<font size=4>**fav_food** </font>"
   ]
  },
  {
   "cell_type": "code",
   "execution_count": 250,
   "metadata": {},
   "outputs": [
    {
     "data": {
      "text/plain": [
       "False    123\n",
       "True       2\n",
       "Name: fav_food, dtype: int64"
      ]
     },
     "execution_count": 250,
     "metadata": {},
     "output_type": "execute_result"
    }
   ],
   "source": [
    "food['fav_food'].isnull().value_counts()"
   ]
  },
  {
   "cell_type": "code",
   "execution_count": 251,
   "metadata": {},
   "outputs": [
    {
     "data": {
      "text/plain": [
       "Home-made       75\n",
       "both            38\n",
       "Store-bought    12\n",
       "Name: fav_food, dtype: int64"
      ]
     },
     "execution_count": 251,
     "metadata": {},
     "output_type": "execute_result"
    }
   ],
   "source": [
    "food['fav_food'].fillna(0,inplace=True)\n",
    "median_ff = food['fav_food'].median()\n",
    "food['fav_food'].replace(to_replace=0,value=median_ff,inplace=True)\n",
    "food['fav_food'] = food['fav_food'].astype('category')\n",
    "food['fav_food'].cat.categories = ['Home-made','Store-bought','both']\n",
    "food['fav_food'].value_counts()"
   ]
  },
  {
   "cell_type": "markdown",
   "metadata": {},
   "source": [
    "<font size=4>**fries** </font>"
   ]
  },
  {
   "cell_type": "code",
   "execution_count": 252,
   "metadata": {},
   "outputs": [
    {
     "data": {
      "text/plain": [
       "False    125\n",
       "Name: fries, dtype: int64"
      ]
     },
     "execution_count": 252,
     "metadata": {},
     "output_type": "execute_result"
    }
   ],
   "source": [
    "food['fries'].isnull().value_counts()"
   ]
  },
  {
   "cell_type": "code",
   "execution_count": 253,
   "metadata": {},
   "outputs": [
    {
     "data": {
      "text/plain": [
       "McDonalds     114\n",
       "Home-Fries     11\n",
       "Name: fries, dtype: int64"
      ]
     },
     "execution_count": 253,
     "metadata": {},
     "output_type": "execute_result"
    }
   ],
   "source": [
    "food['fries'] = food['fries'].astype('category')\n",
    "food['fries'].cat.categories = ['McDonalds','Home-Fries']\n",
    "food['fries'].value_counts()"
   ]
  },
  {
   "cell_type": "markdown",
   "metadata": {},
   "source": [
    "<font size=4>**grade_level** </font>"
   ]
  },
  {
   "cell_type": "code",
   "execution_count": 254,
   "metadata": {},
   "outputs": [
    {
     "data": {
      "text/plain": [
       "False    125\n",
       "Name: grade_level, dtype: int64"
      ]
     },
     "execution_count": 254,
     "metadata": {},
     "output_type": "execute_result"
    }
   ],
   "source": [
    "food['grade_level'].isnull().value_counts()"
   ]
  },
  {
   "cell_type": "code",
   "execution_count": 255,
   "metadata": {},
   "outputs": [
    {
     "data": {
      "text/plain": [
       "freshman     37\n",
       "Sophomore    32\n",
       "Senior       28\n",
       "Junior       28\n",
       "Name: grade_level, dtype: int64"
      ]
     },
     "execution_count": 255,
     "metadata": {},
     "output_type": "execute_result"
    }
   ],
   "source": [
    "food['grade_level'] = food['grade_level'].astype('category')\n",
    "food['grade_level'].cat.categories = ['freshman','Sophomore','Junior','Senior']\n",
    "food['grade_level'].value_counts()"
   ]
  },
  {
   "cell_type": "markdown",
   "metadata": {},
   "source": [
    "<font size=4>**ideal_diet_coded** </font>"
   ]
  },
  {
   "cell_type": "code",
   "execution_count": 256,
   "metadata": {},
   "outputs": [
    {
     "data": {
      "text/plain": [
       "False    125\n",
       "Name: ideal_diet_coded, dtype: int64"
      ]
     },
     "execution_count": 256,
     "metadata": {},
     "output_type": "execute_result"
    }
   ],
   "source": [
    "food['ideal_diet_coded'].isnull().value_counts()"
   ]
  },
  {
   "cell_type": "code",
   "execution_count": 257,
   "metadata": {},
   "outputs": [
    {
     "data": {
      "text/plain": [
       "adding veggies/eating healthier food/adding fruit    44\n",
       "balance                                              17\n",
       "more protein                                         16\n",
       "home cooked/organic                                  15\n",
       "current diet                                         13\n",
       "portion control                                      11\n",
       "less sugar                                            6\n",
       "unclear                                               3\n",
       "Name: ideal_diet_coded, dtype: int64"
      ]
     },
     "execution_count": 257,
     "metadata": {},
     "output_type": "execute_result"
    }
   ],
   "source": [
    "food['ideal_diet_coded'] = food['ideal_diet_coded'].astype('category')\n",
    "food['ideal_diet_coded'].cat.categories = ['portion control',\n",
    "                                           'adding veggies/eating healthier food/adding fruit',\n",
    "                                           'balance','less sugar','home cooked/organic',\n",
    "                                          'current diet','more protein','unclear']\n",
    "food['ideal_diet_coded'].value_counts()"
   ]
  },
  {
   "cell_type": "markdown",
   "metadata": {},
   "source": [
    "<font size=4>**income** </font>"
   ]
  },
  {
   "cell_type": "code",
   "execution_count": 258,
   "metadata": {},
   "outputs": [
    {
     "data": {
      "text/plain": [
       "False    124\n",
       "True       1\n",
       "Name: income, dtype: int64"
      ]
     },
     "execution_count": 258,
     "metadata": {},
     "output_type": "execute_result"
    }
   ],
   "source": [
    "food['income'].isnull().value_counts()"
   ]
  },
  {
   "cell_type": "code",
   "execution_count": 259,
   "metadata": {},
   "outputs": [
    {
     "data": {
      "text/plain": [
       "higher than $100k    41\n",
       "$70,001 to $100k     34\n",
       "$50,001 to $70k      20\n",
       "$30,001 to $50k      17\n",
       "$15,001 to $30k       7\n",
       "less than $15k        6\n",
       "Name: income, dtype: int64"
      ]
     },
     "execution_count": 259,
     "metadata": {},
     "output_type": "execute_result"
    }
   ],
   "source": [
    "food['income'].fillna(0,inplace=True)\n",
    "median_ff = food['income'].median()\n",
    "food['income'].replace(to_replace=0,value=median_ff,inplace=True)\n",
    "food['income'] = food['income'].astype('category')\n",
    "food['income'].cat.categories = ['less than $15k','$15,001 to $30k',\n",
    "                                 '$30,001 to $50k','$50,001 to $70k',\n",
    "                                 '$70,001 to $100k','higher than $100k']\n",
    "food['income'].value_counts()"
   ]
  },
  {
   "cell_type": "markdown",
   "metadata": {},
   "source": [
    "<font size=4>**marital_status** </font>"
   ]
  },
  {
   "cell_type": "code",
   "execution_count": 260,
   "metadata": {},
   "outputs": [
    {
     "data": {
      "text/plain": [
       "False    124\n",
       "True       1\n",
       "Name: marital_status, dtype: int64"
      ]
     },
     "execution_count": 260,
     "metadata": {},
     "output_type": "execute_result"
    }
   ],
   "source": [
    "food['marital_status'].isnull().value_counts()"
   ]
  },
  {
   "cell_type": "code",
   "execution_count": 261,
   "metadata": {},
   "outputs": [
    {
     "data": {
      "text/plain": [
       "Single         65\n",
       "In-relation    59\n",
       "Married         1\n",
       "Name: marital_status, dtype: int64"
      ]
     },
     "execution_count": 261,
     "metadata": {},
     "output_type": "execute_result"
    }
   ],
   "source": [
    "food['marital_status'].fillna(0,inplace=True)\n",
    "median_ff = food['marital_status'].median()\n",
    "food['marital_status'].replace(to_replace=0,value=median_ff,inplace=True)\n",
    "food['marital_status'] = food['marital_status'].astype('category')\n",
    "food['marital_status'].cat.categories = ['Single','In-relation','Married']\n",
    "food['marital_status'].value_counts()"
   ]
  },
  {
   "cell_type": "markdown",
   "metadata": {},
   "source": [
    "<font size=4>**mother_education** </font>"
   ]
  },
  {
   "cell_type": "code",
   "execution_count": 262,
   "metadata": {},
   "outputs": [
    {
     "data": {
      "text/plain": [
       "False    122\n",
       "True       3\n",
       "Name: mother_education, dtype: int64"
      ]
     },
     "execution_count": 262,
     "metadata": {},
     "output_type": "execute_result"
    }
   ],
   "source": [
    "food['mother_education'].isnull().value_counts()"
   ]
  },
  {
   "cell_type": "code",
   "execution_count": 263,
   "metadata": {},
   "outputs": [
    {
     "data": {
      "text/plain": [
       "college degree           49\n",
       "high school degree       30\n",
       "graduate degree          23\n",
       "some college degree      18\n",
       "less than high school     5\n",
       "Name: mother_education, dtype: int64"
      ]
     },
     "execution_count": 263,
     "metadata": {},
     "output_type": "execute_result"
    }
   ],
   "source": [
    "food['mother_education'].fillna(0,inplace=True)\n",
    "median_ff = food['mother_education'].median()\n",
    "food['mother_education'].replace(to_replace=0,value=median_ff,inplace=True)\n",
    "food['mother_education'] = food['mother_education'].astype('category')\n",
    "food['mother_education'].cat.categories = ['less than high school',\n",
    "                                           'high school degree',\n",
    "                                           'some college degree',\n",
    "                                           'college degree',\n",
    "                                           'graduate degree']\n",
    "food['mother_education'].value_counts()"
   ]
  },
  {
   "cell_type": "markdown",
   "metadata": {},
   "source": [
    "<font size=4>**nutritional_check** </font>"
   ]
  },
  {
   "cell_type": "code",
   "execution_count": 264,
   "metadata": {},
   "outputs": [
    {
     "data": {
      "text/plain": [
       "False    125\n",
       "Name: nutritional_check, dtype: int64"
      ]
     },
     "execution_count": 264,
     "metadata": {},
     "output_type": "execute_result"
    }
   ],
   "source": [
    "food['nutritional_check'].isnull().value_counts()"
   ]
  },
  {
   "cell_type": "code",
   "execution_count": 265,
   "metadata": {},
   "outputs": [
    {
     "data": {
      "text/plain": [
       "most products            43\n",
       "certain products only    36\n",
       "very rarely              20\n",
       "everything               16\n",
       "never                    10\n",
       "Name: nutritional_check, dtype: int64"
      ]
     },
     "execution_count": 265,
     "metadata": {},
     "output_type": "execute_result"
    }
   ],
   "source": [
    "food['nutritional_check'] = food['nutritional_check'].astype('category')\n",
    "food['nutritional_check'].cat.categories = ['never','certain products only',\n",
    "                                            'very rarely','most products',\n",
    "                                            'everything']\n",
    "food['nutritional_check'].value_counts()"
   ]
  },
  {
   "cell_type": "markdown",
   "metadata": {},
   "source": [
    "<font size=4>**on_off_campus** </font>"
   ]
  },
  {
   "cell_type": "code",
   "execution_count": 266,
   "metadata": {},
   "outputs": [
    {
     "data": {
      "text/plain": [
       "False    124\n",
       "True       1\n",
       "Name: on_off_campus, dtype: int64"
      ]
     },
     "execution_count": 266,
     "metadata": {},
     "output_type": "execute_result"
    }
   ],
   "source": [
    "food['on_off_campus'].isnull().value_counts()"
   ]
  },
  {
   "cell_type": "code",
   "execution_count": 267,
   "metadata": {},
   "outputs": [
    {
     "data": {
      "text/plain": [
       "On campus             98\n",
       "Rent out of campus    16\n",
       "Live with parents      9\n",
       "own house              2\n",
       "Name: on_off_campus, dtype: int64"
      ]
     },
     "execution_count": 267,
     "metadata": {},
     "output_type": "execute_result"
    }
   ],
   "source": [
    "food['on_off_campus'].fillna(0,inplace=True)\n",
    "median_ff = food['on_off_campus'].median()\n",
    "food['on_off_campus'].replace(to_replace=0,value=median_ff,inplace=True)\n",
    "food['on_off_campus'] = food['on_off_campus'].astype('category')\n",
    "food['on_off_campus'].cat.categories = ['On campus','Rent out of campus',\n",
    "                                        'Live with parents','own house']\n",
    "food['on_off_campus'].value_counts()"
   ]
  },
  {
   "cell_type": "markdown",
   "metadata": {},
   "source": [
    "<font size=4>**parents_cook** </font>"
   ]
  },
  {
   "cell_type": "code",
   "execution_count": 268,
   "metadata": {},
   "outputs": [
    {
     "data": {
      "text/plain": [
       "False    125\n",
       "Name: parents_cook, dtype: int64"
      ]
     },
     "execution_count": 268,
     "metadata": {},
     "output_type": "execute_result"
    }
   ],
   "source": [
    "food['parents_cook'].isnull().value_counts()"
   ]
  },
  {
   "cell_type": "code",
   "execution_count": 269,
   "metadata": {},
   "outputs": [
    {
     "data": {
      "text/plain": [
       "Almost everyday    75\n",
       "2-3/week           36\n",
       "1-2/week           13\n",
       "Never               1\n",
       "Name: parents_cook, dtype: int64"
      ]
     },
     "execution_count": 269,
     "metadata": {},
     "output_type": "execute_result"
    }
   ],
   "source": [
    "food['parents_cook'] = food['parents_cook'].astype('category')\n",
    "food['parents_cook'].cat.categories = ['Almost everyday','2-3/week',\n",
    "                                       '1-2/week','Never']\n",
    "food['parents_cook'].value_counts()"
   ]
  },
  {
   "cell_type": "markdown",
   "metadata": {},
   "source": [
    "<font size=4>**self_perception_weight** </font>"
   ]
  },
  {
   "cell_type": "code",
   "execution_count": 270,
   "metadata": {},
   "outputs": [
    {
     "data": {
      "text/plain": [
       "False    124\n",
       "True       1\n",
       "Name: self_perception_weight, dtype: int64"
      ]
     },
     "execution_count": 270,
     "metadata": {},
     "output_type": "execute_result"
    }
   ],
   "source": [
    "food['self_perception_weight'].isnull().value_counts()"
   ]
  },
  {
   "cell_type": "code",
   "execution_count": 271,
   "metadata": {},
   "outputs": [
    {
     "data": {
      "text/plain": [
       "just right           46\n",
       "slight overweight    31\n",
       "very fit             31\n",
       "overweight            6\n",
       "slim                  6\n",
       "idont see             5\n",
       "Name: self_perception_weight, dtype: int64"
      ]
     },
     "execution_count": 271,
     "metadata": {},
     "output_type": "execute_result"
    }
   ],
   "source": [
    "food['self_perception_weight'].fillna(0,inplace=True)\n",
    "median_ff = food['self_perception_weight'].median()\n",
    "food['self_perception_weight'].replace(to_replace=0,value=median_ff,inplace=True)\n",
    "food['self_perception_weight'] = food['self_perception_weight'].astype('category')\n",
    "food['self_perception_weight'].cat.categories = ['slim','very fit',\n",
    "      'just right','slight overweight','overweight','idont see']\n",
    "food['self_perception_weight'].value_counts()"
   ]
  },
  {
   "cell_type": "markdown",
   "metadata": {},
   "source": [
    "<font size=4>**pay_meal_out** </font>"
   ]
  },
  {
   "cell_type": "code",
   "execution_count": 272,
   "metadata": {},
   "outputs": [
    {
     "data": {
      "text/plain": [
       "False    125\n",
       "Name: pay_meal_out, dtype: int64"
      ]
     },
     "execution_count": 272,
     "metadata": {},
     "output_type": "execute_result"
    }
   ],
   "source": [
    "food['pay_meal_out'].isnull().value_counts()"
   ]
  },
  {
   "cell_type": "code",
   "execution_count": 273,
   "metadata": {},
   "outputs": [
    {
     "data": {
      "text/plain": [
       "$10.01 to $20       67\n",
       "$20.01 to $30       22\n",
       "$5.01 to $10        17\n",
       "$30.01 to $40       11\n",
       "more than $40.01     8\n",
       "Name: pay_meal_out, dtype: int64"
      ]
     },
     "execution_count": 273,
     "metadata": {},
     "output_type": "execute_result"
    }
   ],
   "source": [
    "food['pay_meal_out'] = food['pay_meal_out'].astype('category')\n",
    "food['pay_meal_out'].cat.categories = ['$5.01 to $10','$10.01 to $20',\n",
    "                                       '$20.01 to $30','$30.01 to $40',\n",
    "                                       'more than $40.01']\n",
    "food['pay_meal_out'].value_counts()"
   ]
  },
  {
   "cell_type": "markdown",
   "metadata": {},
   "source": [
    "<font size=4>**soup** </font>"
   ]
  },
  {
   "cell_type": "code",
   "execution_count": 274,
   "metadata": {},
   "outputs": [
    {
     "data": {
      "text/plain": [
       "False    124\n",
       "True       1\n",
       "Name: soup, dtype: int64"
      ]
     },
     "execution_count": 274,
     "metadata": {},
     "output_type": "execute_result"
    }
   ],
   "source": [
    "food['soup'].isnull().value_counts()"
   ]
  },
  {
   "cell_type": "code",
   "execution_count": 275,
   "metadata": {},
   "outputs": [
    {
     "data": {
      "text/plain": [
       "veggie-soup    98\n",
       "creamy-soup    27\n",
       "Name: soup, dtype: int64"
      ]
     },
     "execution_count": 275,
     "metadata": {},
     "output_type": "execute_result"
    }
   ],
   "source": [
    "food['soup'].fillna(0,inplace=True)\n",
    "median_s = food['soup'].median()\n",
    "food['soup'].replace(to_replace=0,value=median_s,inplace=True)\n",
    "food['soup'] = food['soup'].astype('category')\n",
    "food['soup'].cat.categories = ['veggie-soup','creamy-soup']\n",
    "food['soup'].value_counts()"
   ]
  },
  {
   "cell_type": "markdown",
   "metadata": {},
   "source": [
    "<font size=4>**sports** </font>"
   ]
  },
  {
   "cell_type": "code",
   "execution_count": 276,
   "metadata": {},
   "outputs": [
    {
     "data": {
      "text/plain": [
       "False    123\n",
       "True       2\n",
       "Name: sports, dtype: int64"
      ]
     },
     "execution_count": 276,
     "metadata": {},
     "output_type": "execute_result"
    }
   ],
   "source": [
    "food['sports'].isnull().value_counts()"
   ]
  },
  {
   "cell_type": "code",
   "execution_count": 277,
   "metadata": {},
   "outputs": [
    {
     "data": {
      "text/plain": [
       "Yes    77\n",
       "No     48\n",
       "Name: sports, dtype: int64"
      ]
     },
     "execution_count": 277,
     "metadata": {},
     "output_type": "execute_result"
    }
   ],
   "source": [
    "food['sports'].fillna(0,inplace=True)\n",
    "median_sp = food['sports'].median()\n",
    "food['sports'].replace(to_replace=0,value=median_sp,inplace=True)\n",
    "food['sports'] = food['sports'].astype('category')\n",
    "food['sports'].cat.categories = ['Yes','No']\n",
    "food['sports'].value_counts()"
   ]
  },
  {
   "cell_type": "markdown",
   "metadata": {},
   "source": [
    "<font size=4>**vitamins** </font>"
   ]
  },
  {
   "cell_type": "code",
   "execution_count": 278,
   "metadata": {},
   "outputs": [
    {
     "data": {
      "text/plain": [
       "False    125\n",
       "Name: vitamins, dtype: int64"
      ]
     },
     "execution_count": 278,
     "metadata": {},
     "output_type": "execute_result"
    }
   ],
   "source": [
    "food['vitamins'].isnull().value_counts()"
   ]
  },
  {
   "cell_type": "code",
   "execution_count": 279,
   "metadata": {},
   "outputs": [
    {
     "data": {
      "text/plain": [
       "no     64\n",
       "yes    61\n",
       "Name: vitamins, dtype: int64"
      ]
     },
     "execution_count": 279,
     "metadata": {},
     "output_type": "execute_result"
    }
   ],
   "source": [
    "food['vitamins'] = food['vitamins'].astype('category')\n",
    "food['vitamins'].cat.categories = ['yes','no']\n",
    "food['vitamins'].value_counts()"
   ]
  },
  {
   "cell_type": "code",
   "execution_count": 124,
   "metadata": {
    "collapsed": true
   },
   "outputs": [],
   "source": [
    "food.to_csv('/Users/ouyoshimisatoshi/Desktop/food.csv',index=False)"
   ]
  },
  {
   "cell_type": "markdown",
   "metadata": {},
   "source": [
    "<font size=6>2.Exploratory Data Analysis Part </font>"
   ]
  },
  {
   "cell_type": "markdown",
   "metadata": {},
   "source": [
    "<font size=4>(1)**Texture Features Data Distribution** </font>"
   ]
  },
  {
   "cell_type": "code",
   "execution_count": 280,
   "metadata": {},
   "outputs": [
    {
     "name": "stdout",
     "output_type": "stream",
     "text": [
      "comfort_food\n",
      "none\n",
      "chocolate, chips, ice cream\n",
      "frozen yogurt, pizza, fast food\n",
      "Pizza, Mac and cheese, ice cream\n",
      "Ice cream, chocolate, chips \n",
      "Candy, brownies and soda.\n",
      "Chocolate, ice cream, french fries, pretzels\n",
      "Ice cream, cheeseburgers, chips.\n",
      "Donuts, ice cream, chips\n",
      "Mac and cheese, chocolate, and pasta \n",
      "Pasta, grandma homemade chocolate cake anything homemade \n",
      "chocolate, pasta, soup, chips, popcorn\n",
      "Cookies, popcorn, and chips\n",
      "ice cream, cake, chocolate\n",
      "Pizza, fruit, spaghetti, chicken and Potatoes  \n",
      "cookies, donuts, candy bars\n",
      "Saltfish, Candy and Kit Kat \n",
      "chips, cookies, ice cream\n",
      "Chocolate, ice crea \n",
      "pizza, wings, Chinese\n",
      "Fast food, pizza, subs\n",
      "chocolate, sweets, ice cream\n",
      "burgers, chips, cookies\n",
      "Chilli, soup, pot pie\n",
      "Soup, pasta, brownies, cake\n",
      "chocolate, ice cream/milkshake, cookies\n",
      "Chips, ice cream, microwaveable foods \n",
      "Chicken fingers, pizza \n",
      "cookies, hot chocolate, beef jerky\n",
      "Tomato soup, pizza, Fritos, Meatball sub, Dr. Pepper\n",
      "cookies, mac-n-cheese, brownies, french fries, \n",
      "chips and dip, pepsi, \n",
      "Grandma's Chinese, Peruvian food from back home, and sushi\n",
      "Ice cream, cookies,  Chinese food, and chicken nuggets \n",
      "french fries, chips, ice cream\n",
      "mac n cheese, peanut butter and banana sandwich, omelet\n",
      "pizza, doughnuts, mcdonalds \n",
      "chocolate, chips, candy\n",
      "chocolate, popcorn, ice cream\n",
      "Candy\n",
      "Pop\n",
      "Chocolate \n",
      "Chipotle \n",
      "Moe's \n",
      "Pizza, Ice cream, fries, cereal, cookies  \n",
      "Ice cream, chocolate, twizzlers \n",
      "ice cream, cookie dough, cookies, cheese\n",
      "ice cream, cereal, and salt and vinegar chips \n",
      "Potato chips, ice cream, chocolate, cookies\n",
      "Mac and cheese, fried chicken, cornbread \n",
      "popcorn, chips, candy, & fries \n",
      "Chex-mix, Wegmans cookies, Cheez-Its \n",
      "pizza, ice cream, chips\n",
      "fried chicken. mashed potatoes, mac and cheese\n",
      "Popcorn, Chex Mix, Pizza\n",
      "Burger\n",
      "Pizza, chocolate, and ice cream \n",
      "fries, chips, fried chicken, pizza, grapes\n",
      "peanut butter sandwich, pretzals, garlic bread\n",
      "chips, dip, fries, pizza\n",
      "Pizza, Ice Cream, Chicken Wings\n",
      "Pizza chocolate chips bagels ice Capps \n",
      "Chocolate, ice cream, pasta\n",
      "Mac n Cheese. Chips and salsa. Ice cream. \n",
      "peanut butter, dessets, pretzels. \n",
      "Macaroons, truffles, peanut butter n chocolate ice cream\n",
      "ice cream, cookies, ice cream\n",
      "carrots and ranch, pretzels, dark chocolate \n",
      "cookies, nutella, ice cream, coffee, fruit \n",
      "mac and cheese\n",
      "Chocolate, Popcorn, Icecream\n",
      "Ice cream, cake, mozzarella sticks, pierogies \n",
      "Chips, Mac and cheese, pizza, French fries \n",
      "Pizza, burritos, slim jims\n",
      "Broccoli, spaghetti squash, quinoa, and grilled chicken\n",
      "Chocolate, ice cream, cookie dough\n",
      "pizza, pretzels, fruit snacks, deli sandwhich\n",
      "Chips, ice cream\n",
      "nan\n",
      "mac and cheese, potato soup, ice cream, chips and cheese\n",
      "chocolate, pizza, and mashed potatoes\n",
      "Pizza cookies steak \n",
      "chocolate, fruit, and ice cream\n",
      "Chips sweets popcorn\n",
      "Cookies, burgers, chicken noodle soup, ice cream\n",
      "cake, French fries, chicken nuggets\n",
      "pizza, ice cream, cookies\n",
      "Mashed potatoes, pasta\n",
      "Pasta dishes, Cheesecake, Pancakes\n",
      "Ice cream, pizza, cookies\n",
      "Chinese food, moes, sponge candy, homemade lasagne \n",
      "pizza, pasta, mac and cheese\n",
      "Little Debbie snacks, donuts, pizza\n",
      "carrots, plantain chips, almonds, popcorn \n",
      "chips, ice cream, fruit snacks\n",
      "Macaroni and cheese, chicken noodle soup, pizza\n",
      "Chocolate, Chips, Ice cream, French Fires, Pizza\n",
      "Mac and cheese, lasagna, Chinese food \n",
      "candy, Chinese, mcdonalds\n",
      "Doritos, mac and cheese, ice cream\n",
      "Ice cream, cake, pop, pizza, and milkshakes.\n",
      "Mac and Cheese, Pizza, Ice Cream and French Fries \n",
      "Soup, pasta, cake\n",
      "mac & cheese, frosted brownies, chicken nuggs\n",
      "watermelon, grapes, ice cream\n",
      "macaroni and cheese, stuffed peppers, hamburgers, french fries\n",
      "Pizza, mashed potatoes, spaghetti\n",
      "dark chocolate, terra chips, reese's cups(dark chocolate), and bread/crackers with cottage cheese\n",
      "Chips, chocolate, ,mozzarella sticks \n",
      "ice cream, chips, candy\n",
      "Pizza, soda, chocolate brownie, chicken tikka masala and butter naan \n",
      "Chocolate, Pasta, Cookies\n",
      "Candy, salty snacks, toast\n",
      "Mac in cheese, pizza, mozzarella sticks \n",
      "Ice-cream, pizza, chocolate\n",
      "snacks, chips, \n",
      "Chocolate, Ice cream, pizza\n",
      "ice cream, pizza, Chinese food \n",
      "Burgers, indian and korean food\n",
      "\n",
      "chocolate bar, ice cream, pretzels, potato chips and protein bars.\n",
      "Ice cream, chocolate, pizza, cucumber \n",
      "Noodle ( any kinds of noodle), Tuna sandwich, and Egg.\n",
      "\n",
      "Chinese, chips, cake\n",
      "chips, rice, chicken curry,\n",
      "wine. mac and cheese, pizza, ice cream \n",
      "Pizza / Wings / Cheesecake\n",
      "rice, potato, seaweed soup\n",
      "Mac n Cheese, Lasagna, Pizza\n",
      "Chocolates, pizza, and Ritz.\n"
     ]
    }
   ],
   "source": [
    "#Create a list of all the comfort food that come to mind. \n",
    "import csv\n",
    "with open(\"/Users/ouyoshimisatoshi/Desktop/(7245)Bigdata Systems and Intelligence Analytics/Assignment1/Database/food_coded.csv\",\n",
    "          \"rU\") as c_file:\n",
    "    csv_reader = csv.reader(c_file)\n",
    "    comfort_food=[]\n",
    "    for line in csv_reader:\n",
    "        comfort_food.append([line[7]])\n",
    "        print line[7]"
   ]
  },
  {
   "cell_type": "code",
   "execution_count": 281,
   "metadata": {
    "scrolled": false
   },
   "outputs": [
    {
     "data": {
      "image/png": "[encoded data removed]",
      "text/plain": [
       "<matplotlib.figure.Figure at 0x10beda190>"
      ]
     },
     "metadata": {},
     "output_type": "display_data"
    }
   ],
   "source": [
    "#Ploting common comfort foods that come to mind. \n",
    "import nltk\n",
    "import re\n",
    "from nltk.corpus import stopwords\n",
    "stop = set(stopwords.words(\"english\"))\n",
    "new = [i for i in str(comfort_food).lower().split() if i not in stop]\n",
    "Freq_dist=nltk.FreqDist(new)\n",
    "Freq_dist.plot(30, cumulative = False)"
   ]
  },
  {
   "cell_type": "code",
   "execution_count": 282,
   "metadata": {
    "scrolled": false
   },
   "outputs": [
    {
     "name": "stdout",
     "output_type": "stream",
     "text": [
      "comfort_food_reasons\n",
      "we dont have comfort \n",
      "Stress, bored, anger\n",
      "stress, sadness\n",
      "Boredom\n",
      "Stress, boredom, cravings \n",
      "None, i don't eat comfort food. I just eat when i'm hungry.\n",
      "stress, boredom\n",
      "I eat comfort food when im stressed out from school(finals week), when I`m sad, or when i am dealing with personal family issues.\n",
      "Boredom \n",
      "Stress, anger and sadness \n",
      "Boredom \n",
      "sadness, stress, cold weather\n",
      "Sadness, boredom, late night snack \n",
      "stress,  boredom, special occasions\n",
      "Friends, environment and boredom\n",
      "boredom\n",
      "Stress \n",
      "I usually only eat comfort food when I'm bored, if i am doing something, i can go for hours without eating \n",
      "Sadness, stress\n",
      "boredom, sadness, hungry\n",
      "happiness, satisfaction\n",
      "Mostly boredom\n",
      "sadness, depression \n",
      "Stress and boredom \n",
      "A long day, not feeling well, winter \n",
      "boredom\n",
      "Boredom, lazyniss \n",
      "Boredom \n",
      "survival, bored\n",
      "Boredom, anger, drunkeness\n",
      "stress, boredom, cold weather\n",
      "stres, boredom, and nighttime\n",
      "Hunger and Boredom \n",
      "boredom, sadness, and if it has a good taste. \n",
      "boredom, stressed, sad\n",
      "Boredom usually\n",
      "boredom\n",
      "Stress\n",
      "boredom, stress\n",
      "No reasons \n",
      "Usually if I'm sad or depressed. \n",
      "Tired \n",
      "Boredom!, sadness\n",
      "All of the above; sadness, boredom and confusion \n",
      "Stress, boredom, craving\n",
      "Hunger, boredom\n",
      "sadness, boredom, & anger \n",
      "Boredom, happiness, distraught \n",
      "stressed, upset, or just craving a cheat meal\n",
      "They taste better than other food. They are a pickme up. They are easy to make\n",
      "Stress, boredom\n",
      "Lazy\n",
      "Boredom, sadness and anger \n",
      "Boredom, sadness\n",
      "stress, anger and boredom\n",
      "bored, stress\n",
      "I usually only eat comfort foods when I am bored. I will also eat them when I am happy to celebrate and then when I am sad to comfort me.\n",
      "Just cause \n",
      "Stress, boredom, sadness\n",
      "Boredom. Celebration. \n",
      "Sadness, boredom, lonely.\n",
      "I do not really eat \"comfort food\" but I guess sadness, special occasions, and anxiety \n",
      "boredom, sadness\n",
      "sadness\n",
      "Bordem, happiness, sadness\n",
      "boredom\n",
      "sadness\n",
      "Boredom\n",
      "Stress, sadness, bored \n",
      "Boredom, stress, and it tastes good\n",
      "Bad day, bored, sadness\n",
      "Boredom, being in your period, and long bus rides for softball\n",
      "boredom, anger, happy\n",
      "Boredom, stress\n",
      "nan\n",
      "sadness, stressed, boredom\n",
      "boredom and stress\n",
      "Boredom comfort hunger \n",
      "stress, boredom\n",
      "Boredom\n",
      "happiness, hunger, sadness\n",
      "boredom, sadness\n",
      "boredom\n",
      "Boredom, sadness, or with friends \n",
      "Sadness, Loneliness, Boredom\n",
      "Mostly Stress\n",
      "boredom, sadness \n",
      "when i am sad or craving\n",
      "None\n",
      "stress, boredom, college as whole \n",
      "boredom\n",
      "Boredom and stress\n",
      "Stress, sadness, boredom\n",
      "Boredom, sadness\n",
      "laziness and hungover\n",
      "Boredom, hunger, snacking.\n",
      "Happiness, sadness, celebration.\n",
      "Boredom, anger and just being hungry in general.\n",
      "Depression, comfort, accessibility \n",
      "they are yummy, my boyfriend sometimes makes me sad, boredom\n",
      "Sad, bored, excited\n",
      "boredom, stress, mood swings\n",
      "Anger, sadness\n",
      "Anxiousness, watching TV I desire \"comfort food\" \n",
      "Boredom, sadness, anxiety\n",
      "Boredom, laziness, anger\n",
      "Stress and sadness\n",
      "I am always stressed out, and bored when I am in my apartment. \n",
      "Stress, sadness, boredom\n",
      "Stress, frustration, self-consciousness \n",
      "Sadness and cravings\n",
      "boredom\n",
      "Sadness, happiness and boredom\n",
      "Boredom and sadness\n",
      "sadness, happiness and hunger\n",
      "Stress, boredom and physical activity\n",
      "loneliness, homework, boredom \n",
      "When i'm  eating with my close friends/ Food smell or look good/ when I feel tired\n",
      "Stress and boredom \n",
      "Happiness, boredom, social event\n",
      "boredom and sadness \n",
      "Loneliness / Homesick / Sadness\n",
      "sadness\n",
      "happiness, they are some of my favorite foods\n",
      "hormones, Premenstrual syndrome.\n"
     ]
    }
   ],
   "source": [
    "#Create a list of some of the reasons that make you eat comfort food\n",
    "with open(\"/Users/ouyoshimisatoshi/Desktop/(7245)Bigdata Systems and Intelligence Analytics/Assignment1/Database/food_coded.csv\",\n",
    "          'rU') as csvfile:\n",
    "    csvreader = csv.reader(csvfile)\n",
    "    comfort_food_reason=[]\n",
    "    for line in csvreader:\n",
    "        comfort_food_reason.append([line[8]])\n",
    "        print (line[8])"
   ]
  },
  {
   "cell_type": "code",
   "execution_count": 283,
   "metadata": {},
   "outputs": [
    {
     "data": {
      "image/png": "[encoded data removed]",
      "text/plain": [
       "<matplotlib.figure.Figure at 0x10beb3fd0>"
      ]
     },
     "metadata": {},
     "output_type": "display_data"
    }
   ],
   "source": [
    "#Ploting common reasons for eating comfort food\n",
    "from nltk.corpus import stopwords\n",
    "stop = set(stopwords.words('english'))\n",
    "new = [i for i in str(comfort_food_reason).lower().split() if i not in stop]\n",
    "Freq_dist_nltk=nltk.FreqDist(new)\n",
    "Freq_dist_nltk.plot(30, cumulative = False)"
   ]
  },
  {
   "cell_type": "markdown",
   "metadata": {},
   "source": [
    "<font size=4>**(2)Non-texture Features Data distribution** </font>"
   ]
  },
  {
   "cell_type": "code",
   "execution_count": 284,
   "metadata": {
    "scrolled": true
   },
   "outputs": [
    {
     "data": {
      "text/html": [
       "<div>\n",
       "<style>\n",
       "    .dataframe thead tr:only-child th {\n",
       "        text-align: right;\n",
       "    }\n",
       "\n",
       "    .dataframe thead th {\n",
       "        text-align: left;\n",
       "    }\n",
       "\n",
       "    .dataframe tbody tr th {\n",
       "        vertical-align: top;\n",
       "    }\n",
       "</style>\n",
       "<table border=\"1\" class=\"dataframe\">\n",
       "  <thead>\n",
       "    <tr style=\"text-align: right;\">\n",
       "      <th></th>\n",
       "      <th>GPA</th>\n",
       "      <th>calories_chicken</th>\n",
       "      <th>calories_day</th>\n",
       "      <th>calories_scone</th>\n",
       "      <th>ethnic_food</th>\n",
       "      <th>fruit_day</th>\n",
       "      <th>greek_food</th>\n",
       "      <th>healthy_feeling</th>\n",
       "      <th>indian_food</th>\n",
       "      <th>italian_food</th>\n",
       "      <th>life_rewarding</th>\n",
       "      <th>persian_food</th>\n",
       "      <th>thai_food</th>\n",
       "      <th>tortilla_calories</th>\n",
       "      <th>turkey_calories</th>\n",
       "      <th>veggies_day</th>\n",
       "      <th>waffle_calories</th>\n",
       "      <th>weight</th>\n",
       "    </tr>\n",
       "  </thead>\n",
       "  <tbody>\n",
       "    <tr>\n",
       "      <th>count</th>\n",
       "      <td>125.000000</td>\n",
       "      <td>125.000000</td>\n",
       "      <td>125.000000</td>\n",
       "      <td>125.000000</td>\n",
       "      <td>125.000000</td>\n",
       "      <td>125.000000</td>\n",
       "      <td>125.000000</td>\n",
       "      <td>125.000000</td>\n",
       "      <td>125.000000</td>\n",
       "      <td>125.000000</td>\n",
       "      <td>125.000000</td>\n",
       "      <td>125.000000</td>\n",
       "      <td>125.000000</td>\n",
       "      <td>125.000000</td>\n",
       "      <td>125.000000</td>\n",
       "      <td>125.000000</td>\n",
       "      <td>125.000000</td>\n",
       "      <td>125.000000</td>\n",
       "    </tr>\n",
       "    <tr>\n",
       "      <th>mean</th>\n",
       "      <td>3.415144</td>\n",
       "      <td>577.320000</td>\n",
       "      <td>3.024000</td>\n",
       "      <td>504.560000</td>\n",
       "      <td>3.744000</td>\n",
       "      <td>4.224000</td>\n",
       "      <td>3.488000</td>\n",
       "      <td>5.456000</td>\n",
       "      <td>3.152000</td>\n",
       "      <td>4.728000</td>\n",
       "      <td>5.104000</td>\n",
       "      <td>2.808000</td>\n",
       "      <td>3.336000</td>\n",
       "      <td>947.520000</td>\n",
       "      <td>555.040000</td>\n",
       "      <td>4.008000</td>\n",
       "      <td>1073.400000</td>\n",
       "      <td>158.952000</td>\n",
       "    </tr>\n",
       "    <tr>\n",
       "      <th>std</th>\n",
       "      <td>0.384145</td>\n",
       "      <td>131.214156</td>\n",
       "      <td>0.588382</td>\n",
       "      <td>230.034198</td>\n",
       "      <td>1.177093</td>\n",
       "      <td>0.923388</td>\n",
       "      <td>1.365567</td>\n",
       "      <td>2.585643</td>\n",
       "      <td>1.486802</td>\n",
       "      <td>0.587175</td>\n",
       "      <td>3.107805</td>\n",
       "      <td>1.418177</td>\n",
       "      <td>1.436528</td>\n",
       "      <td>201.274792</td>\n",
       "      <td>152.370379</td>\n",
       "      <td>1.081337</td>\n",
       "      <td>248.667092</td>\n",
       "      <td>31.988621</td>\n",
       "    </tr>\n",
       "    <tr>\n",
       "      <th>min</th>\n",
       "      <td>2.200000</td>\n",
       "      <td>265.000000</td>\n",
       "      <td>2.000000</td>\n",
       "      <td>315.000000</td>\n",
       "      <td>1.000000</td>\n",
       "      <td>1.000000</td>\n",
       "      <td>1.000000</td>\n",
       "      <td>1.000000</td>\n",
       "      <td>1.000000</td>\n",
       "      <td>3.000000</td>\n",
       "      <td>1.000000</td>\n",
       "      <td>1.000000</td>\n",
       "      <td>1.000000</td>\n",
       "      <td>580.000000</td>\n",
       "      <td>345.000000</td>\n",
       "      <td>1.000000</td>\n",
       "      <td>575.000000</td>\n",
       "      <td>100.000000</td>\n",
       "    </tr>\n",
       "    <tr>\n",
       "      <th>25%</th>\n",
       "      <td>3.200000</td>\n",
       "      <td>430.000000</td>\n",
       "      <td>3.000000</td>\n",
       "      <td>420.000000</td>\n",
       "      <td>3.000000</td>\n",
       "      <td>4.000000</td>\n",
       "      <td>3.000000</td>\n",
       "      <td>3.000000</td>\n",
       "      <td>2.000000</td>\n",
       "      <td>5.000000</td>\n",
       "      <td>2.000000</td>\n",
       "      <td>2.000000</td>\n",
       "      <td>2.000000</td>\n",
       "      <td>725.000000</td>\n",
       "      <td>500.000000</td>\n",
       "      <td>3.000000</td>\n",
       "      <td>900.000000</td>\n",
       "      <td>135.000000</td>\n",
       "    </tr>\n",
       "    <tr>\n",
       "      <th>50%</th>\n",
       "      <td>3.500000</td>\n",
       "      <td>610.000000</td>\n",
       "      <td>3.000000</td>\n",
       "      <td>420.000000</td>\n",
       "      <td>4.000000</td>\n",
       "      <td>5.000000</td>\n",
       "      <td>4.000000</td>\n",
       "      <td>5.000000</td>\n",
       "      <td>3.000000</td>\n",
       "      <td>5.000000</td>\n",
       "      <td>5.000000</td>\n",
       "      <td>3.000000</td>\n",
       "      <td>3.000000</td>\n",
       "      <td>940.000000</td>\n",
       "      <td>500.000000</td>\n",
       "      <td>4.000000</td>\n",
       "      <td>900.000000</td>\n",
       "      <td>155.000000</td>\n",
       "    </tr>\n",
       "    <tr>\n",
       "      <th>75%</th>\n",
       "      <td>3.700000</td>\n",
       "      <td>720.000000</td>\n",
       "      <td>3.000000</td>\n",
       "      <td>420.000000</td>\n",
       "      <td>5.000000</td>\n",
       "      <td>5.000000</td>\n",
       "      <td>5.000000</td>\n",
       "      <td>8.000000</td>\n",
       "      <td>5.000000</td>\n",
       "      <td>5.000000</td>\n",
       "      <td>8.000000</td>\n",
       "      <td>4.000000</td>\n",
       "      <td>5.000000</td>\n",
       "      <td>1165.000000</td>\n",
       "      <td>690.000000</td>\n",
       "      <td>5.000000</td>\n",
       "      <td>1315.000000</td>\n",
       "      <td>180.000000</td>\n",
       "    </tr>\n",
       "    <tr>\n",
       "      <th>max</th>\n",
       "      <td>4.000000</td>\n",
       "      <td>720.000000</td>\n",
       "      <td>4.000000</td>\n",
       "      <td>980.000000</td>\n",
       "      <td>5.000000</td>\n",
       "      <td>5.000000</td>\n",
       "      <td>5.000000</td>\n",
       "      <td>10.000000</td>\n",
       "      <td>5.000000</td>\n",
       "      <td>5.000000</td>\n",
       "      <td>10.000000</td>\n",
       "      <td>5.000000</td>\n",
       "      <td>5.000000</td>\n",
       "      <td>1165.000000</td>\n",
       "      <td>850.000000</td>\n",
       "      <td>5.000000</td>\n",
       "      <td>1315.000000</td>\n",
       "      <td>265.000000</td>\n",
       "    </tr>\n",
       "  </tbody>\n",
       "</table>\n",
       "</div>"
      ],
      "text/plain": [
       "              GPA  calories_chicken  calories_day  calories_scone  \\\n",
       "count  125.000000        125.000000    125.000000      125.000000   \n",
       "mean     3.415144        577.320000      3.024000      504.560000   \n",
       "std      0.384145        131.214156      0.588382      230.034198   \n",
       "min      2.200000        265.000000      2.000000      315.000000   \n",
       "25%      3.200000        430.000000      3.000000      420.000000   \n",
       "50%      3.500000        610.000000      3.000000      420.000000   \n",
       "75%      3.700000        720.000000      3.000000      420.000000   \n",
       "max      4.000000        720.000000      4.000000      980.000000   \n",
       "\n",
       "       ethnic_food   fruit_day  greek_food  healthy_feeling  indian_food  \\\n",
       "count   125.000000  125.000000  125.000000       125.000000   125.000000   \n",
       "mean      3.744000    4.224000    3.488000         5.456000     3.152000   \n",
       "std       1.177093    0.923388    1.365567         2.585643     1.486802   \n",
       "min       1.000000    1.000000    1.000000         1.000000     1.000000   \n",
       "25%       3.000000    4.000000    3.000000         3.000000     2.000000   \n",
       "50%       4.000000    5.000000    4.000000         5.000000     3.000000   \n",
       "75%       5.000000    5.000000    5.000000         8.000000     5.000000   \n",
       "max       5.000000    5.000000    5.000000        10.000000     5.000000   \n",
       "\n",
       "       italian_food  life_rewarding  persian_food   thai_food  \\\n",
       "count    125.000000      125.000000    125.000000  125.000000   \n",
       "mean       4.728000        5.104000      2.808000    3.336000   \n",
       "std        0.587175        3.107805      1.418177    1.436528   \n",
       "min        3.000000        1.000000      1.000000    1.000000   \n",
       "25%        5.000000        2.000000      2.000000    2.000000   \n",
       "50%        5.000000        5.000000      3.000000    3.000000   \n",
       "75%        5.000000        8.000000      4.000000    5.000000   \n",
       "max        5.000000       10.000000      5.000000    5.000000   \n",
       "\n",
       "       tortilla_calories  turkey_calories  veggies_day  waffle_calories  \\\n",
       "count         125.000000       125.000000   125.000000       125.000000   \n",
       "mean          947.520000       555.040000     4.008000      1073.400000   \n",
       "std           201.274792       152.370379     1.081337       248.667092   \n",
       "min           580.000000       345.000000     1.000000       575.000000   \n",
       "25%           725.000000       500.000000     3.000000       900.000000   \n",
       "50%           940.000000       500.000000     4.000000       900.000000   \n",
       "75%          1165.000000       690.000000     5.000000      1315.000000   \n",
       "max          1165.000000       850.000000     5.000000      1315.000000   \n",
       "\n",
       "           weight  \n",
       "count  125.000000  \n",
       "mean   158.952000  \n",
       "std     31.988621  \n",
       "min    100.000000  \n",
       "25%    135.000000  \n",
       "50%    155.000000  \n",
       "75%    180.000000  \n",
       "max    265.000000  "
      ]
     },
     "execution_count": 284,
     "metadata": {},
     "output_type": "execute_result"
    }
   ],
   "source": [
    "#Generates descriptive statistics that summarize the central tendency, \n",
    "#dispersion and shape of a dataset’s distribution\n",
    "food.describe()"
   ]
  },
  {
   "cell_type": "code",
   "execution_count": 285,
   "metadata": {},
   "outputs": [
    {
     "name": "stdout",
     "output_type": "stream",
     "text": [
      "5    42\n",
      "4    36\n",
      "3    25\n",
      "2    17\n",
      "1     5\n",
      "Name: ethnic_food, dtype: int64\n"
     ]
    }
   ],
   "source": [
    "#Taking ethnic_food as an example to analyse the plot of column\n",
    "#Count the number of different values‘ occurrence。\n",
    "ethnic_food = food['ethnic_food'].value_counts()\n",
    "print(ethnic_food)"
   ]
  },
  {
   "cell_type": "code",
   "execution_count": 286,
   "metadata": {
    "scrolled": true
   },
   "outputs": [
    {
     "data": {
      "image/png": "[encoded data removed]",
      "text/plain": [
       "<matplotlib.figure.Figure at 0x1a186f53d0>"
      ]
     },
     "metadata": {},
     "output_type": "display_data"
    }
   ],
   "source": [
    "#Drawing histogram to show the result intuitively.\n",
    "#From the histogram,we can see that most of the data is \n",
    "#distributed in\"very like\" and the smallest data is distributed \n",
    "#in \"very unlike\".\n",
    "objects = ('Very unlikely', 'unlikely', 'neutral','likely','very likely')\n",
    "y_pos = np.arange(len(objects))\n",
    "performance = [5,17,25,36,42]\n",
    "plt.bar(y_pos, performance, align='center', alpha=0.7)\n",
    "plt.xticks(y_pos, objects)\n",
    "plt.ylabel('Frequency')\n",
    "plt.title('How likely to eat ethnic food')\n",
    " \n",
    "plt.show()"
   ]
  },
  {
   "cell_type": "code",
   "execution_count": 287,
   "metadata": {
    "scrolled": true
   },
   "outputs": [
    {
     "name": "stdout",
     "output_type": "stream",
     "text": [
      "just right           46\n",
      "slight overweight    31\n",
      "very fit             31\n",
      "overweight            6\n",
      "slim                  6\n",
      "idont see             5\n",
      "Name: self_perception_weight, dtype: int64\n"
     ]
    }
   ],
   "source": [
    "sp_weight= food['self_perception_weight'].value_counts()\n",
    "print(sp_weight)"
   ]
  },
  {
   "cell_type": "code",
   "execution_count": 288,
   "metadata": {},
   "outputs": [
    {
     "data": {
      "image/png": "[encoded data removed]",
      "text/plain": [
       "<matplotlib.figure.Figure at 0x1a186094d0>"
      ]
     },
     "metadata": {},
     "output_type": "display_data"
    }
   ],
   "source": [
    "#Drawing histogram of self_perception_weight column.\n",
    "#From the plot we can see that most of the data is \n",
    "#distributed in\"just right\",\"slight overweight\"\n",
    "#and \"very fit\",only a little people are overweight or slim.\n",
    "objects = ('just right', 'slight overweight', \n",
    "           'very fit','overweight','slim','idont see')\n",
    "y_pos = np.arange(len(objects))\n",
    "performance = [46,31,31,6,6,5]\n",
    "plt.bar(y_pos, performance, align='center', alpha=0.7)\n",
    "plt.xticks(y_pos, objects)\n",
    "plt.ylabel('Frequency')\n",
    "plt.title('Self perception of weight') \n",
    "plt.show()"
   ]
  },
  {
   "cell_type": "markdown",
   "metadata": {},
   "source": [
    "<font size=4>**(3)Correlated columns analysis** </font>"
   ]
  },
  {
   "cell_type": "code",
   "execution_count": 289,
   "metadata": {
    "scrolled": true
   },
   "outputs": [
    {
     "data": {
      "text/plain": [
       "<matplotlib.axes._subplots.AxesSubplot at 0x1a18818e10>"
      ]
     },
     "execution_count": 289,
     "metadata": {},
     "output_type": "execute_result"
    },
    {
     "data": {
      "image/png": "[encoded data removed]",
      "text/plain": [
       "<matplotlib.figure.Figure at 0x1a186ff4d0>"
      ]
     },
     "metadata": {},
     "output_type": "display_data"
    }
   ],
   "source": [
    "#Create the heatmap,a graphical representation of data using\n",
    "#colors to indicate the level of activity,darker colors indicates \n",
    "#low correlation, and brighter colors indicates high correlation. \n",
    "fig, ax = plt.subplots()\n",
    "fig.set_size_inches(15, 10)\n",
    "sn.heatmap(food.corr())"
   ]
  },
  {
   "cell_type": "code",
   "execution_count": 290,
   "metadata": {},
   "outputs": [
    {
     "data": {
      "text/html": [
       "<div>\n",
       "<style>\n",
       "    .dataframe thead tr:only-child th {\n",
       "        text-align: right;\n",
       "    }\n",
       "\n",
       "    .dataframe thead th {\n",
       "        text-align: left;\n",
       "    }\n",
       "\n",
       "    .dataframe tbody tr th {\n",
       "        vertical-align: top;\n",
       "    }\n",
       "</style>\n",
       "<table border=\"1\" class=\"dataframe\">\n",
       "  <thead>\n",
       "    <tr style=\"text-align: right;\">\n",
       "      <th></th>\n",
       "      <th>GPA</th>\n",
       "      <th>calories_chicken</th>\n",
       "      <th>calories_day</th>\n",
       "      <th>calories_scone</th>\n",
       "      <th>ethnic_food</th>\n",
       "      <th>fruit_day</th>\n",
       "      <th>greek_food</th>\n",
       "      <th>healthy_feeling</th>\n",
       "      <th>indian_food</th>\n",
       "      <th>italian_food</th>\n",
       "      <th>life_rewarding</th>\n",
       "      <th>persian_food</th>\n",
       "      <th>thai_food</th>\n",
       "      <th>tortilla_calories</th>\n",
       "      <th>turkey_calories</th>\n",
       "      <th>veggies_day</th>\n",
       "      <th>waffle_calories</th>\n",
       "      <th>weight</th>\n",
       "    </tr>\n",
       "  </thead>\n",
       "  <tbody>\n",
       "    <tr>\n",
       "      <th>GPA</th>\n",
       "      <td>1.000000</td>\n",
       "      <td>0.139441</td>\n",
       "      <td>0.026352</td>\n",
       "      <td>-0.223172</td>\n",
       "      <td>0.205202</td>\n",
       "      <td>0.034011</td>\n",
       "      <td>0.039774</td>\n",
       "      <td>-0.059930</td>\n",
       "      <td>0.127943</td>\n",
       "      <td>0.117910</td>\n",
       "      <td>-0.023081</td>\n",
       "      <td>0.006135</td>\n",
       "      <td>0.179167</td>\n",
       "      <td>0.024042</td>\n",
       "      <td>0.241921</td>\n",
       "      <td>0.106116</td>\n",
       "      <td>0.010162</td>\n",
       "      <td>-0.039091</td>\n",
       "    </tr>\n",
       "    <tr>\n",
       "      <th>calories_chicken</th>\n",
       "      <td>0.139441</td>\n",
       "      <td>1.000000</td>\n",
       "      <td>0.376363</td>\n",
       "      <td>0.062040</td>\n",
       "      <td>0.090029</td>\n",
       "      <td>0.112156</td>\n",
       "      <td>0.062942</td>\n",
       "      <td>-0.201979</td>\n",
       "      <td>-0.052667</td>\n",
       "      <td>0.085190</td>\n",
       "      <td>-0.274695</td>\n",
       "      <td>-0.057176</td>\n",
       "      <td>0.088459</td>\n",
       "      <td>0.381634</td>\n",
       "      <td>0.397642</td>\n",
       "      <td>0.152477</td>\n",
       "      <td>0.347542</td>\n",
       "      <td>-0.096904</td>\n",
       "    </tr>\n",
       "    <tr>\n",
       "      <th>calories_day</th>\n",
       "      <td>0.026352</td>\n",
       "      <td>0.376363</td>\n",
       "      <td>1.000000</td>\n",
       "      <td>0.151719</td>\n",
       "      <td>0.148673</td>\n",
       "      <td>0.286894</td>\n",
       "      <td>0.216158</td>\n",
       "      <td>-0.039057</td>\n",
       "      <td>0.078764</td>\n",
       "      <td>0.135761</td>\n",
       "      <td>0.025086</td>\n",
       "      <td>0.092549</td>\n",
       "      <td>0.133501</td>\n",
       "      <td>0.269831</td>\n",
       "      <td>0.214528</td>\n",
       "      <td>0.265877</td>\n",
       "      <td>0.208063</td>\n",
       "      <td>0.075473</td>\n",
       "    </tr>\n",
       "    <tr>\n",
       "      <th>calories_scone</th>\n",
       "      <td>-0.223172</td>\n",
       "      <td>0.062040</td>\n",
       "      <td>0.151719</td>\n",
       "      <td>1.000000</td>\n",
       "      <td>-0.090365</td>\n",
       "      <td>-0.034082</td>\n",
       "      <td>-0.111758</td>\n",
       "      <td>0.105488</td>\n",
       "      <td>-0.156724</td>\n",
       "      <td>-0.104185</td>\n",
       "      <td>0.081172</td>\n",
       "      <td>-0.059714</td>\n",
       "      <td>-0.247256</td>\n",
       "      <td>0.233237</td>\n",
       "      <td>-0.015800</td>\n",
       "      <td>-0.093520</td>\n",
       "      <td>0.365755</td>\n",
       "      <td>0.049424</td>\n",
       "    </tr>\n",
       "    <tr>\n",
       "      <th>ethnic_food</th>\n",
       "      <td>0.205202</td>\n",
       "      <td>0.090029</td>\n",
       "      <td>0.148673</td>\n",
       "      <td>-0.090365</td>\n",
       "      <td>1.000000</td>\n",
       "      <td>0.312872</td>\n",
       "      <td>0.554974</td>\n",
       "      <td>0.046614</td>\n",
       "      <td>0.621456</td>\n",
       "      <td>0.236816</td>\n",
       "      <td>0.058041</td>\n",
       "      <td>0.583855</td>\n",
       "      <td>0.680825</td>\n",
       "      <td>-0.018700</td>\n",
       "      <td>0.074923</td>\n",
       "      <td>0.350095</td>\n",
       "      <td>-0.020835</td>\n",
       "      <td>-0.123480</td>\n",
       "    </tr>\n",
       "    <tr>\n",
       "      <th>fruit_day</th>\n",
       "      <td>0.034011</td>\n",
       "      <td>0.112156</td>\n",
       "      <td>0.286894</td>\n",
       "      <td>-0.034082</td>\n",
       "      <td>0.312872</td>\n",
       "      <td>1.000000</td>\n",
       "      <td>0.302742</td>\n",
       "      <td>-0.076904</td>\n",
       "      <td>0.303949</td>\n",
       "      <td>0.098406</td>\n",
       "      <td>0.056452</td>\n",
       "      <td>0.168591</td>\n",
       "      <td>0.216388</td>\n",
       "      <td>0.061809</td>\n",
       "      <td>-0.056809</td>\n",
       "      <td>0.652402</td>\n",
       "      <td>0.031427</td>\n",
       "      <td>-0.138056</td>\n",
       "    </tr>\n",
       "    <tr>\n",
       "      <th>greek_food</th>\n",
       "      <td>0.039774</td>\n",
       "      <td>0.062942</td>\n",
       "      <td>0.216158</td>\n",
       "      <td>-0.111758</td>\n",
       "      <td>0.554974</td>\n",
       "      <td>0.302742</td>\n",
       "      <td>1.000000</td>\n",
       "      <td>0.030112</td>\n",
       "      <td>0.602667</td>\n",
       "      <td>0.237281</td>\n",
       "      <td>0.018349</td>\n",
       "      <td>0.669242</td>\n",
       "      <td>0.536506</td>\n",
       "      <td>-0.063046</td>\n",
       "      <td>0.032656</td>\n",
       "      <td>0.259482</td>\n",
       "      <td>-0.000769</td>\n",
       "      <td>-0.021798</td>\n",
       "    </tr>\n",
       "    <tr>\n",
       "      <th>healthy_feeling</th>\n",
       "      <td>-0.059930</td>\n",
       "      <td>-0.201979</td>\n",
       "      <td>-0.039057</td>\n",
       "      <td>0.105488</td>\n",
       "      <td>0.046614</td>\n",
       "      <td>-0.076904</td>\n",
       "      <td>0.030112</td>\n",
       "      <td>1.000000</td>\n",
       "      <td>0.061540</td>\n",
       "      <td>-0.124806</td>\n",
       "      <td>0.645380</td>\n",
       "      <td>0.050460</td>\n",
       "      <td>0.058292</td>\n",
       "      <td>-0.105274</td>\n",
       "      <td>0.048569</td>\n",
       "      <td>-0.061887</td>\n",
       "      <td>-0.172761</td>\n",
       "      <td>0.068421</td>\n",
       "    </tr>\n",
       "    <tr>\n",
       "      <th>indian_food</th>\n",
       "      <td>0.127943</td>\n",
       "      <td>-0.052667</td>\n",
       "      <td>0.078764</td>\n",
       "      <td>-0.156724</td>\n",
       "      <td>0.621456</td>\n",
       "      <td>0.303949</td>\n",
       "      <td>0.602667</td>\n",
       "      <td>0.061540</td>\n",
       "      <td>1.000000</td>\n",
       "      <td>0.195541</td>\n",
       "      <td>0.108251</td>\n",
       "      <td>0.786537</td>\n",
       "      <td>0.727283</td>\n",
       "      <td>-0.135764</td>\n",
       "      <td>-0.032243</td>\n",
       "      <td>0.245025</td>\n",
       "      <td>-0.056159</td>\n",
       "      <td>0.000324</td>\n",
       "    </tr>\n",
       "    <tr>\n",
       "      <th>italian_food</th>\n",
       "      <td>0.117910</td>\n",
       "      <td>0.085190</td>\n",
       "      <td>0.135761</td>\n",
       "      <td>-0.104185</td>\n",
       "      <td>0.236816</td>\n",
       "      <td>0.098406</td>\n",
       "      <td>0.237281</td>\n",
       "      <td>-0.124806</td>\n",
       "      <td>0.195541</td>\n",
       "      <td>1.000000</td>\n",
       "      <td>-0.174405</td>\n",
       "      <td>0.207947</td>\n",
       "      <td>0.290880</td>\n",
       "      <td>0.212605</td>\n",
       "      <td>0.088008</td>\n",
       "      <td>0.079663</td>\n",
       "      <td>0.112983</td>\n",
       "      <td>0.088176</td>\n",
       "    </tr>\n",
       "    <tr>\n",
       "      <th>life_rewarding</th>\n",
       "      <td>-0.023081</td>\n",
       "      <td>-0.274695</td>\n",
       "      <td>0.025086</td>\n",
       "      <td>0.081172</td>\n",
       "      <td>0.058041</td>\n",
       "      <td>0.056452</td>\n",
       "      <td>0.018349</td>\n",
       "      <td>0.645380</td>\n",
       "      <td>0.108251</td>\n",
       "      <td>-0.174405</td>\n",
       "      <td>1.000000</td>\n",
       "      <td>0.094225</td>\n",
       "      <td>0.064365</td>\n",
       "      <td>-0.230810</td>\n",
       "      <td>-0.114794</td>\n",
       "      <td>0.018948</td>\n",
       "      <td>-0.172905</td>\n",
       "      <td>-0.063953</td>\n",
       "    </tr>\n",
       "    <tr>\n",
       "      <th>persian_food</th>\n",
       "      <td>0.006135</td>\n",
       "      <td>-0.057176</td>\n",
       "      <td>0.092549</td>\n",
       "      <td>-0.059714</td>\n",
       "      <td>0.583855</td>\n",
       "      <td>0.168591</td>\n",
       "      <td>0.669242</td>\n",
       "      <td>0.050460</td>\n",
       "      <td>0.786537</td>\n",
       "      <td>0.207947</td>\n",
       "      <td>0.094225</td>\n",
       "      <td>1.000000</td>\n",
       "      <td>0.605908</td>\n",
       "      <td>-0.120625</td>\n",
       "      <td>-0.052213</td>\n",
       "      <td>0.085151</td>\n",
       "      <td>-0.099897</td>\n",
       "      <td>-0.007849</td>\n",
       "    </tr>\n",
       "    <tr>\n",
       "      <th>thai_food</th>\n",
       "      <td>0.179167</td>\n",
       "      <td>0.088459</td>\n",
       "      <td>0.133501</td>\n",
       "      <td>-0.247256</td>\n",
       "      <td>0.680825</td>\n",
       "      <td>0.216388</td>\n",
       "      <td>0.536506</td>\n",
       "      <td>0.058292</td>\n",
       "      <td>0.727283</td>\n",
       "      <td>0.290880</td>\n",
       "      <td>0.064365</td>\n",
       "      <td>0.605908</td>\n",
       "      <td>1.000000</td>\n",
       "      <td>-0.073100</td>\n",
       "      <td>0.095548</td>\n",
       "      <td>0.237070</td>\n",
       "      <td>-0.016995</td>\n",
       "      <td>-0.047206</td>\n",
       "    </tr>\n",
       "    <tr>\n",
       "      <th>tortilla_calories</th>\n",
       "      <td>0.024042</td>\n",
       "      <td>0.381634</td>\n",
       "      <td>0.269831</td>\n",
       "      <td>0.233237</td>\n",
       "      <td>-0.018700</td>\n",
       "      <td>0.061809</td>\n",
       "      <td>-0.063046</td>\n",
       "      <td>-0.105274</td>\n",
       "      <td>-0.135764</td>\n",
       "      <td>0.212605</td>\n",
       "      <td>-0.230810</td>\n",
       "      <td>-0.120625</td>\n",
       "      <td>-0.073100</td>\n",
       "      <td>1.000000</td>\n",
       "      <td>0.474908</td>\n",
       "      <td>0.104953</td>\n",
       "      <td>0.421612</td>\n",
       "      <td>0.100298</td>\n",
       "    </tr>\n",
       "    <tr>\n",
       "      <th>turkey_calories</th>\n",
       "      <td>0.241921</td>\n",
       "      <td>0.397642</td>\n",
       "      <td>0.214528</td>\n",
       "      <td>-0.015800</td>\n",
       "      <td>0.074923</td>\n",
       "      <td>-0.056809</td>\n",
       "      <td>0.032656</td>\n",
       "      <td>0.048569</td>\n",
       "      <td>-0.032243</td>\n",
       "      <td>0.088008</td>\n",
       "      <td>-0.114794</td>\n",
       "      <td>-0.052213</td>\n",
       "      <td>0.095548</td>\n",
       "      <td>0.474908</td>\n",
       "      <td>1.000000</td>\n",
       "      <td>-0.037201</td>\n",
       "      <td>0.361239</td>\n",
       "      <td>0.177518</td>\n",
       "    </tr>\n",
       "    <tr>\n",
       "      <th>veggies_day</th>\n",
       "      <td>0.106116</td>\n",
       "      <td>0.152477</td>\n",
       "      <td>0.265877</td>\n",
       "      <td>-0.093520</td>\n",
       "      <td>0.350095</td>\n",
       "      <td>0.652402</td>\n",
       "      <td>0.259482</td>\n",
       "      <td>-0.061887</td>\n",
       "      <td>0.245025</td>\n",
       "      <td>0.079663</td>\n",
       "      <td>0.018948</td>\n",
       "      <td>0.085151</td>\n",
       "      <td>0.237070</td>\n",
       "      <td>0.104953</td>\n",
       "      <td>-0.037201</td>\n",
       "      <td>1.000000</td>\n",
       "      <td>-0.011049</td>\n",
       "      <td>-0.172281</td>\n",
       "    </tr>\n",
       "    <tr>\n",
       "      <th>waffle_calories</th>\n",
       "      <td>0.010162</td>\n",
       "      <td>0.347542</td>\n",
       "      <td>0.208063</td>\n",
       "      <td>0.365755</td>\n",
       "      <td>-0.020835</td>\n",
       "      <td>0.031427</td>\n",
       "      <td>-0.000769</td>\n",
       "      <td>-0.172761</td>\n",
       "      <td>-0.056159</td>\n",
       "      <td>0.112983</td>\n",
       "      <td>-0.172905</td>\n",
       "      <td>-0.099897</td>\n",
       "      <td>-0.016995</td>\n",
       "      <td>0.421612</td>\n",
       "      <td>0.361239</td>\n",
       "      <td>-0.011049</td>\n",
       "      <td>1.000000</td>\n",
       "      <td>0.149211</td>\n",
       "    </tr>\n",
       "    <tr>\n",
       "      <th>weight</th>\n",
       "      <td>-0.039091</td>\n",
       "      <td>-0.096904</td>\n",
       "      <td>0.075473</td>\n",
       "      <td>0.049424</td>\n",
       "      <td>-0.123480</td>\n",
       "      <td>-0.138056</td>\n",
       "      <td>-0.021798</td>\n",
       "      <td>0.068421</td>\n",
       "      <td>0.000324</td>\n",
       "      <td>0.088176</td>\n",
       "      <td>-0.063953</td>\n",
       "      <td>-0.007849</td>\n",
       "      <td>-0.047206</td>\n",
       "      <td>0.100298</td>\n",
       "      <td>0.177518</td>\n",
       "      <td>-0.172281</td>\n",
       "      <td>0.149211</td>\n",
       "      <td>1.000000</td>\n",
       "    </tr>\n",
       "  </tbody>\n",
       "</table>\n",
       "</div>"
      ],
      "text/plain": [
       "                        GPA  calories_chicken  calories_day  calories_scone  \\\n",
       "GPA                1.000000          0.139441      0.026352       -0.223172   \n",
       "calories_chicken   0.139441          1.000000      0.376363        0.062040   \n",
       "calories_day       0.026352          0.376363      1.000000        0.151719   \n",
       "calories_scone    -0.223172          0.062040      0.151719        1.000000   \n",
       "ethnic_food        0.205202          0.090029      0.148673       -0.090365   \n",
       "fruit_day          0.034011          0.112156      0.286894       -0.034082   \n",
       "greek_food         0.039774          0.062942      0.216158       -0.111758   \n",
       "healthy_feeling   -0.059930         -0.201979     -0.039057        0.105488   \n",
       "indian_food        0.127943         -0.052667      0.078764       -0.156724   \n",
       "italian_food       0.117910          0.085190      0.135761       -0.104185   \n",
       "life_rewarding    -0.023081         -0.274695      0.025086        0.081172   \n",
       "persian_food       0.006135         -0.057176      0.092549       -0.059714   \n",
       "thai_food          0.179167          0.088459      0.133501       -0.247256   \n",
       "tortilla_calories  0.024042          0.381634      0.269831        0.233237   \n",
       "turkey_calories    0.241921          0.397642      0.214528       -0.015800   \n",
       "veggies_day        0.106116          0.152477      0.265877       -0.093520   \n",
       "waffle_calories    0.010162          0.347542      0.208063        0.365755   \n",
       "weight            -0.039091         -0.096904      0.075473        0.049424   \n",
       "\n",
       "                   ethnic_food  fruit_day  greek_food  healthy_feeling  \\\n",
       "GPA                   0.205202   0.034011    0.039774        -0.059930   \n",
       "calories_chicken      0.090029   0.112156    0.062942        -0.201979   \n",
       "calories_day          0.148673   0.286894    0.216158        -0.039057   \n",
       "calories_scone       -0.090365  -0.034082   -0.111758         0.105488   \n",
       "ethnic_food           1.000000   0.312872    0.554974         0.046614   \n",
       "fruit_day             0.312872   1.000000    0.302742        -0.076904   \n",
       "greek_food            0.554974   0.302742    1.000000         0.030112   \n",
       "healthy_feeling       0.046614  -0.076904    0.030112         1.000000   \n",
       "indian_food           0.621456   0.303949    0.602667         0.061540   \n",
       "italian_food          0.236816   0.098406    0.237281        -0.124806   \n",
       "life_rewarding        0.058041   0.056452    0.018349         0.645380   \n",
       "persian_food          0.583855   0.168591    0.669242         0.050460   \n",
       "thai_food             0.680825   0.216388    0.536506         0.058292   \n",
       "tortilla_calories    -0.018700   0.061809   -0.063046        -0.105274   \n",
       "turkey_calories       0.074923  -0.056809    0.032656         0.048569   \n",
       "veggies_day           0.350095   0.652402    0.259482        -0.061887   \n",
       "waffle_calories      -0.020835   0.031427   -0.000769        -0.172761   \n",
       "weight               -0.123480  -0.138056   -0.021798         0.068421   \n",
       "\n",
       "                   indian_food  italian_food  life_rewarding  persian_food  \\\n",
       "GPA                   0.127943      0.117910       -0.023081      0.006135   \n",
       "calories_chicken     -0.052667      0.085190       -0.274695     -0.057176   \n",
       "calories_day          0.078764      0.135761        0.025086      0.092549   \n",
       "calories_scone       -0.156724     -0.104185        0.081172     -0.059714   \n",
       "ethnic_food           0.621456      0.236816        0.058041      0.583855   \n",
       "fruit_day             0.303949      0.098406        0.056452      0.168591   \n",
       "greek_food            0.602667      0.237281        0.018349      0.669242   \n",
       "healthy_feeling       0.061540     -0.124806        0.645380      0.050460   \n",
       "indian_food           1.000000      0.195541        0.108251      0.786537   \n",
       "italian_food          0.195541      1.000000       -0.174405      0.207947   \n",
       "life_rewarding        0.108251     -0.174405        1.000000      0.094225   \n",
       "persian_food          0.786537      0.207947        0.094225      1.000000   \n",
       "thai_food             0.727283      0.290880        0.064365      0.605908   \n",
       "tortilla_calories    -0.135764      0.212605       -0.230810     -0.120625   \n",
       "turkey_calories      -0.032243      0.088008       -0.114794     -0.052213   \n",
       "veggies_day           0.245025      0.079663        0.018948      0.085151   \n",
       "waffle_calories      -0.056159      0.112983       -0.172905     -0.099897   \n",
       "weight                0.000324      0.088176       -0.063953     -0.007849   \n",
       "\n",
       "                   thai_food  tortilla_calories  turkey_calories  veggies_day  \\\n",
       "GPA                 0.179167           0.024042         0.241921     0.106116   \n",
       "calories_chicken    0.088459           0.381634         0.397642     0.152477   \n",
       "calories_day        0.133501           0.269831         0.214528     0.265877   \n",
       "calories_scone     -0.247256           0.233237        -0.015800    -0.093520   \n",
       "ethnic_food         0.680825          -0.018700         0.074923     0.350095   \n",
       "fruit_day           0.216388           0.061809        -0.056809     0.652402   \n",
       "greek_food          0.536506          -0.063046         0.032656     0.259482   \n",
       "healthy_feeling     0.058292          -0.105274         0.048569    -0.061887   \n",
       "indian_food         0.727283          -0.135764        -0.032243     0.245025   \n",
       "italian_food        0.290880           0.212605         0.088008     0.079663   \n",
       "life_rewarding      0.064365          -0.230810        -0.114794     0.018948   \n",
       "persian_food        0.605908          -0.120625        -0.052213     0.085151   \n",
       "thai_food           1.000000          -0.073100         0.095548     0.237070   \n",
       "tortilla_calories  -0.073100           1.000000         0.474908     0.104953   \n",
       "turkey_calories     0.095548           0.474908         1.000000    -0.037201   \n",
       "veggies_day         0.237070           0.104953        -0.037201     1.000000   \n",
       "waffle_calories    -0.016995           0.421612         0.361239    -0.011049   \n",
       "weight             -0.047206           0.100298         0.177518    -0.172281   \n",
       "\n",
       "                   waffle_calories    weight  \n",
       "GPA                       0.010162 -0.039091  \n",
       "calories_chicken          0.347542 -0.096904  \n",
       "calories_day              0.208063  0.075473  \n",
       "calories_scone            0.365755  0.049424  \n",
       "ethnic_food              -0.020835 -0.123480  \n",
       "fruit_day                 0.031427 -0.138056  \n",
       "greek_food               -0.000769 -0.021798  \n",
       "healthy_feeling          -0.172761  0.068421  \n",
       "indian_food              -0.056159  0.000324  \n",
       "italian_food              0.112983  0.088176  \n",
       "life_rewarding           -0.172905 -0.063953  \n",
       "persian_food             -0.099897 -0.007849  \n",
       "thai_food                -0.016995 -0.047206  \n",
       "tortilla_calories         0.421612  0.100298  \n",
       "turkey_calories           0.361239  0.177518  \n",
       "veggies_day              -0.011049 -0.172281  \n",
       "waffle_calories           1.000000  0.149211  \n",
       "weight                    0.149211  1.000000  "
      ]
     },
     "execution_count": 290,
     "metadata": {},
     "output_type": "execute_result"
    }
   ],
   "source": [
    "#Use .corr to get the the correlation between two columns\n",
    "food.corr()"
   ]
  },
  {
   "cell_type": "markdown",
   "metadata": {},
   "source": [
    "**Observation**  \n",
    "\n",
    "1.Ethnic_food is highly correlated with thai, persian, indian and greek foods.\n",
    "\n",
    "2.Fruit_day is highly correlated with veggies_day.\n",
    "\n",
    "3.Greek_food is highly correlated with persian, indian and thai foods.\n",
    "\n",
    "4.Healthy_feeling is strongly related to life_rewarding.\n",
    "\n",
    "5.Indian_food is related to thai and persian foods\n"
   ]
  },
  {
   "cell_type": "markdown",
   "metadata": {},
   "source": [
    "<font size=4>**Visualizing correlated columns** </font>\n",
    "\n",
    "From the following plots we can see a positive trend between the correlated columns."
   ]
  },
  {
   "cell_type": "code",
   "execution_count": 291,
   "metadata": {
    "scrolled": true
   },
   "outputs": [
    {
     "data": {
      "image/png": "[encoded data removed]",
      "text/plain": [
       "<matplotlib.figure.Figure at 0x1a18411c90>"
      ]
     },
     "metadata": {},
     "output_type": "display_data"
    }
   ],
   "source": [
    "fig, axes = plt.subplots(nrows=2,ncols=2)\n",
    "fig.set_size_inches(10, 8)\n",
    "ethnic_thai = sn.regplot('ethnic_food','thai_food',data = food, ax=axes[0,0])\n",
    "ethnic_persian = sn.regplot('ethnic_food','persian_food',data = food, ax=axes[0,1])\n",
    "ethnic_indian = sn.regplot('ethnic_food','indian_food',data = food, ax=axes[1,0])\n",
    "ethnic_greek = sn.regplot('ethnic_food','greek_food',data = food, ax=axes[1,1])"
   ]
  },
  {
   "cell_type": "code",
   "execution_count": 292,
   "metadata": {},
   "outputs": [
    {
     "data": {
      "image/png": "[encoded data removed]",
      "text/plain": [
       "<matplotlib.figure.Figure at 0x1a1829f810>"
      ]
     },
     "metadata": {},
     "output_type": "display_data"
    }
   ],
   "source": [
    "fruit_veggies = sn.regplot('veggies_day','fruit_day',data=food)"
   ]
  },
  {
   "cell_type": "code",
   "execution_count": 293,
   "metadata": {},
   "outputs": [
    {
     "data": {
      "image/png": "[encoded data removed]",
      "text/plain": [
       "<matplotlib.figure.Figure at 0x1a18a12ad0>"
      ]
     },
     "metadata": {},
     "output_type": "display_data"
    }
   ],
   "source": [
    "fig, axes = plt.subplots(nrows=1,ncols=3)\n",
    "greek_peianr = sn.regplot('greek_food','persian_food',data = food, ax=axes[0])\n",
    "greek_indian = sn.regplot('greek_food','indian_food',data = food, ax=axes[1])\n",
    "greek_thai = sn.regplot('greek_food','thai_food',data = food, ax=axes[2])"
   ]
  },
  {
   "cell_type": "code",
   "execution_count": 294,
   "metadata": {},
   "outputs": [
    {
     "data": {
      "image/png": "[encoded data removed]",
      "text/plain": [
       "<matplotlib.figure.Figure at 0x1a189c7b90>"
      ]
     },
     "metadata": {},
     "output_type": "display_data"
    }
   ],
   "source": [
    "health_life = sn.regplot('healthy_feeling','life_rewarding',data = food)"
   ]
  },
  {
   "cell_type": "code",
   "execution_count": 295,
   "metadata": {
    "scrolled": false
   },
   "outputs": [
    {
     "data": {
      "image/png": "[encoded data removed]",
      "text/plain": [
       "<matplotlib.figure.Figure at 0x1a18818f90>"
      ]
     },
     "metadata": {},
     "output_type": "display_data"
    }
   ],
   "source": [
    "fig, axes = plt.subplots(nrows=1,ncols=2)\n",
    "indian_thai = sn.regplot('indian_food','thai_food',data = food, ax=axes[0])\n",
    "indian_persian = sn.regplot('indian_food','persian_food',data = food, ax=axes[1])"
   ]
  },
  {
   "cell_type": "markdown",
   "metadata": {},
   "source": [
    "<font size=4>**(5)SVM** </font>"
   ]
  },
  {
   "cell_type": "markdown",
   "metadata": {},
   "source": [
    "After comparing the prediction result of different models,I choose \n",
    "to apply SVM algorithn."
   ]
  },
  {
   "cell_type": "code",
   "execution_count": 296,
   "metadata": {
    "scrolled": false
   },
   "outputs": [
    {
     "name": "stderr",
     "output_type": "stream",
     "text": [
      "/Users/ouyoshimisatoshi/anaconda2/lib/python2.7/site-packages/ipykernel_launcher.py:6: SettingWithCopyWarning: \n",
      "A value is trying to be set on a copy of a slice from a DataFrame\n",
      "\n",
      "See the caveats in the documentation: http://pandas.pydata.org/pandas-docs/stable/indexing.html#indexing-view-versus-copy\n",
      "  \n"
     ]
    }
   ],
   "source": [
    "#Dividing the GPA into 2 levels,classifying the GPA less than \n",
    "#or equal to 3.5 as the second level.Classifying \n",
    "#the GPA higher than 3.5 as the first level. Using 1, 2 to\n",
    "#reperesent these two levels.\n",
    "food['GPA'][food['GPA']<=3.5]=2"
   ]
  },
  {
   "cell_type": "code",
   "execution_count": 297,
   "metadata": {},
   "outputs": [
    {
     "name": "stderr",
     "output_type": "stream",
     "text": [
      "/Users/ouyoshimisatoshi/anaconda2/lib/python2.7/site-packages/ipykernel_launcher.py:1: SettingWithCopyWarning: \n",
      "A value is trying to be set on a copy of a slice from a DataFrame\n",
      "\n",
      "See the caveats in the documentation: http://pandas.pydata.org/pandas-docs/stable/indexing.html#indexing-view-versus-copy\n",
      "  \"\"\"Entry point for launching an IPython kernel.\n"
     ]
    }
   ],
   "source": [
    "food['GPA'][food['GPA']>3.5]=1"
   ]
  },
  {
   "cell_type": "code",
   "execution_count": 298,
   "metadata": {
    "collapsed": true
   },
   "outputs": [],
   "source": [
    "food['GPA']= food['GPA'].astype('int');"
   ]
  },
  {
   "cell_type": "code",
   "execution_count": 299,
   "metadata": {
    "collapsed": true
   },
   "outputs": [],
   "source": [
    "from sklearn.model_selection import train_test_split"
   ]
  },
  {
   "cell_type": "code",
   "execution_count": 300,
   "metadata": {
    "collapsed": true
   },
   "outputs": [],
   "source": [
    "#Specifying extreme features which is just every numeric variable \n",
    "#for the x axis.\n",
    "#Spliting the data into training data and testing data,set 70% of the original data as \n",
    "#the training data and the remainig as the testing data.\n",
    "X = food[['calories_chicken', 'calories_day','calories_scone',\n",
    "              'ethnic_food','fruit_day','greek_food','healthy_feeling',\n",
    "              'indian_food','italian_food','life_rewarding',\n",
    "              'persian_food','thai_food','tortilla_calories',\n",
    "              'turkey_calories','veggies_day','waffle_calories']]\n",
    "y = food['GPA']\n",
    "X_train, X_test, y_train, y_test = train_test_split(X, y, test_size=0.30, random_state=101)"
   ]
  },
  {
   "cell_type": "markdown",
   "metadata": {},
   "source": [
    "**Train a model**"
   ]
  },
  {
   "cell_type": "code",
   "execution_count": 301,
   "metadata": {
    "collapsed": true
   },
   "outputs": [],
   "source": [
    "#call the SVC() model from sklearn and fit the model to\n",
    "#the trainin data.\n",
    "from sklearn.svm import SVC"
   ]
  },
  {
   "cell_type": "code",
   "execution_count": 302,
   "metadata": {
    "collapsed": true
   },
   "outputs": [],
   "source": [
    "svc_model = SVC()"
   ]
  },
  {
   "cell_type": "code",
   "execution_count": 303,
   "metadata": {},
   "outputs": [
    {
     "data": {
      "text/plain": [
       "SVC(C=1.0, cache_size=200, class_weight=None, coef0=0.0,\n",
       "  decision_function_shape='ovr', degree=3, gamma='auto', kernel='rbf',\n",
       "  max_iter=-1, probability=False, random_state=None, shrinking=True,\n",
       "  tol=0.001, verbose=False)"
      ]
     },
     "execution_count": 303,
     "metadata": {},
     "output_type": "execute_result"
    }
   ],
   "source": [
    "svc_model.fit(X_train,y_train)"
   ]
  },
  {
   "cell_type": "markdown",
   "metadata": {},
   "source": [
    "**Model Evaluation**"
   ]
  },
  {
   "cell_type": "code",
   "execution_count": 304,
   "metadata": {
    "collapsed": true
   },
   "outputs": [],
   "source": [
    "#Getting predictions from the model\n",
    "predictions = svc_model.predict(X_test)"
   ]
  },
  {
   "cell_type": "code",
   "execution_count": 305,
   "metadata": {
    "collapsed": true
   },
   "outputs": [],
   "source": [
    "#Creating a confusion matrix.Comparing y-test to prediction\n",
    "from sklearn.metrics import classification_report,confusion_matrix"
   ]
  },
  {
   "cell_type": "code",
   "execution_count": 306,
   "metadata": {},
   "outputs": [
    {
     "name": "stdout",
     "output_type": "stream",
     "text": [
      "[[ 2 14]\n",
      " [ 0 22]]\n"
     ]
    }
   ],
   "source": [
    "print(confusion_matrix(y_test,predictions))"
   ]
  },
  {
   "cell_type": "code",
   "execution_count": 307,
   "metadata": {
    "scrolled": true
   },
   "outputs": [
    {
     "name": "stdout",
     "output_type": "stream",
     "text": [
      "             precision    recall  f1-score   support\n",
      "\n",
      "          1       1.00      0.12      0.22        16\n",
      "          2       0.61      1.00      0.76        22\n",
      "\n",
      "avg / total       0.77      0.63      0.53        38\n",
      "\n"
     ]
    }
   ],
   "source": [
    "#The precision is 0.77\n",
    "print(classification_report(y_test,predictions))"
   ]
  },
  {
   "attachments": {},
   "cell_type": "markdown",
   "metadata": {},
   "source": [
    "Result\n",
    "\n",
    "(1)\tText features data distribution part\n",
    "In this part I used natural language processing technology to analyze the occurrence frequency of each word of different open-ended questions. The cumulative frequency plot shows the 30 most frequently appeared words. For the column which ask to create a list of all the comfort food that come to mind, the plot shows that the words that appear most frequently from high to low are ice-cream, chocolate, cheese, pizza, chicken, chips, cookies, pasta, and butter. Among them, the frequency of ice-cream and chocolate are far greater than anything else. For the question what are the common reasons for eating comfort food, the most frequent words are boredom, stress, sadness, happiness and hunger. \n",
    "\n",
    "(2)\tCorrelated columns analysis part\n",
    "From the heat map, we have the following observations:\n",
    "1.Ethnic_food column is highly correlated with Thai, Persian, Indian and Greek foods columns;\n",
    "2.Fruit_day column is highly correlated with veggies_day column;\n",
    "3.Greek_food column is highly correlated with Thai, Persian and Indian foods columns;\n",
    "4.Healthy_feeling column is strong related to life_rewarding column;\n",
    "5.Indian_food column is related to Thai and Persian foods columns.\n",
    "I analyzed their relationship further by visualizing correlated columns. The regpolt shows a positive trend between the correlated columns.\n",
    "\n",
    "(3)\tSVM model part\n",
    "Based on these labeled data, I tried to use SVM model to classify the GPA level. Then I got predictions from the model and created a confusion matrix and a classification report. The classification report shows that the total precision is 0.77. \n",
    "Discussion\n",
    "\n",
    "Discussion\n",
    "\n",
    "(1)\tFor text features data distribution part, the results can tell us that students often have poor eating choices. These foods are high in calories and sugar, which could contribute to serious weight problems. And the poor eating preference is mostly associated with bod mood. This phenomenon reflects students' lack of deep nutritional knowledge. Society and colleges should give students more guidance on the nutritional value of food to further promote healthy eating habits. \n",
    "\n",
    "(2)\tFor correlated columns analysis part, although heat map is pretty straightforward to show the correlations among different columns, I tried to further explore the relationships under different conditions. For example, I ran an independent t-test for gender and veggies day. I divided the test into two groups based on gender, then I tried to figure out if women are more or less likely to eat veggies than males, but the p value is higher than 0.05 so there is no obvious statistical difference between men and women and their likely to eat veggies. I've done a lot of attempts like this, but the data in this database cannot reflect any distinct statistical relationship like this.\n",
    "\n",
    "(3)\tFor SVM model part, I tried to use grid search to improve the precision by adjusting the value of parameters (such as C and gamma values). The thought behind this method is just trying out all the possible combinations of C and gamma values. GridSearchCV is a meta-estimator. It runs the same loop with cross validation firstly to find the best parameter combination. Once it gets the best combination, it runs again to fit on all data passed. Unfortunately, because the dataset is not large enough, I am not satisfied enough with the result and I removed this part of job. \n"
   ]
  },
  {
   "cell_type": "code",
   "execution_count": null,
   "metadata": {
    "collapsed": true
   },
   "outputs": [],
   "source": []
  }
 ],
 "metadata": {
  "kernelspec": {
   "display_name": "Python 2",
   "language": "python",
   "name": "python2"
  },
  "language_info": {
   "codemirror_mode": {
    "name": "ipython",
    "version": 2
   },
   "file_extension": ".py",
   "mimetype": "text/x-python",
   "name": "python",
   "nbconvert_exporter": "python",
   "pygments_lexer": "ipython2",
   "version": "2.7.14"
  }
 },
 "nbformat": 4,
 "nbformat_minor": 2
}
